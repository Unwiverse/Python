{
 "cells": [
  {
   "cell_type": "code",
   "execution_count": null,
   "id": "21f2c2c1",
   "metadata": {},
   "outputs": [],
   "source": [
    "# 인자(인수)를 넣을 때 리스트나 튜플을 쓸 수도 있다\n",
    "# 쓸 때는 리스트 또는 튜플명 앞에 *(애스터리스크)를 붙여 함수에 넣으면 끝\n",
    "# 형식)\n",
    "#      def 함수이름(*리스트명)\n",
    "#      def 함수이름(*튜플명)"
   ]
  },
  {
   "cell_type": "code",
   "execution_count": null,
   "id": "4522a8a3",
   "metadata": {},
   "outputs": [],
   "source": [
    "# 리스트나 튜플 앞에 *를 붙이면 데이터가 언패킹돼서 순서대로 매개변수로 넘어감\n",
    "# 말그대로 얘기하면 리스트나 튜플 포장을 풀어서 넘어간다는 뜻\n",
    "# 단, 중요한 건 매개변수의 개수와 리스트나 튜플의 요소 개수는 같아야 됨"
   ]
  }
 ],
 "metadata": {
  "kernelspec": {
   "display_name": "Python 3 (ipykernel)",
   "language": "python",
   "name": "python3"
  },
  "language_info": {
   "codemirror_mode": {
    "name": "ipython",
    "version": 3
   },
   "file_extension": ".py",
   "mimetype": "text/x-python",
   "name": "python",
   "nbconvert_exporter": "python",
   "pygments_lexer": "ipython3",
   "version": "3.11.7"
  }
 },
 "nbformat": 4,
 "nbformat_minor": 5
}
