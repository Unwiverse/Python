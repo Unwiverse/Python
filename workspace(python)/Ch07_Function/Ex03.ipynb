{
 "cells": [
  {
   "cell_type": "code",
   "execution_count": 2,
   "id": "7b3a9455",
   "metadata": {},
   "outputs": [],
   "source": [
    "def student_info(name, age, address):\n",
    "    print('이름: ', name)\n",
    "    print('나이: ', age)\n",
    "    print('주소: ', address)"
   ]
  },
  {
   "cell_type": "code",
   "execution_count": 3,
   "id": "56bab405",
   "metadata": {},
   "outputs": [
    {
     "name": "stdout",
     "output_type": "stream",
     "text": [
      "이름:  홍길동\n",
      "나이:  28\n",
      "주소:  서울시구로구\n"
     ]
    }
   ],
   "source": [
    "student_info('홍길동', 28, '서울시구로구')"
   ]
  },
  {
   "cell_type": "code",
   "execution_count": null,
   "id": "3150804d",
   "metadata": {},
   "outputs": [],
   "source": [
    "# 파이썬에선 인수의 순서를 매번 기억하지 않게 키워드 인수를 제공함\n",
    "# 키워드 인수는 말 그대로 인수에 이름을(키워드) 붙여주는 걸 말함.\n",
    "# 형식) def 함수(키워드=값)"
   ]
  },
  {
   "cell_type": "code",
   "execution_count": 4,
   "id": "5aabe202",
   "metadata": {},
   "outputs": [
    {
     "name": "stdout",
     "output_type": "stream",
     "text": [
      "이름:  유관순\n",
      "나이:  19\n",
      "주소:  충남 천안\n"
     ]
    }
   ],
   "source": [
    "student_info(name='유관순', age=19, address='충남 천안') # 순서대로 안쓸거면 키워드를 일일이 써줘야되서 짜친다"
   ]
  },
  {
   "cell_type": "code",
   "execution_count": null,
   "id": "9205e958",
   "metadata": {},
   "outputs": [],
   "source": [
    "# 딕셔너리를 써서 키워드 인수로 데이터를 넣는 딕셔너리 언패킹을 하자"
   ]
  },
  {
   "cell_type": "code",
   "execution_count": 6,
   "id": "7dd30282",
   "metadata": {},
   "outputs": [
    {
     "name": "stdout",
     "output_type": "stream",
     "text": [
      "이름:  신사임당\n",
      "나이:  43\n",
      "주소:  강릉시\n"
     ]
    }
   ],
   "source": [
    "data_dict = {'name':'신사임당', 'age':43, 'address':'강릉시'}\n",
    "student_info(**data_dict)"
   ]
  },
  {
   "cell_type": "code",
   "execution_count": null,
   "id": "8775463c",
   "metadata": {},
   "outputs": [],
   "source": []
  },
  {
   "cell_type": "code",
   "execution_count": 11,
   "id": "e7f2421c",
   "metadata": {},
   "outputs": [],
   "source": [
    "# 키워드 인수를 쓰는 가변 인수를 만들어보자\n",
    "# 형식)\n",
    "#      def 함수이름(**kwargs):\n",
    "def student_info(**kwargs):\n",
    "    for key, args in kwargs.items():\n",
    "        print(key, \":\", args, sep=(' '))"
   ]
  },
  {
   "cell_type": "code",
   "execution_count": 12,
   "id": "f717e2c4",
   "metadata": {},
   "outputs": [
    {
     "name": "stdout",
     "output_type": "stream",
     "text": [
      "name : 신사임당\n",
      "age : 43\n",
      "address : 강릉시\n"
     ]
    }
   ],
   "source": [
    "data_dict = {'name':'신사임당', 'age':43, 'address':'강릉시'}\n",
    "student_info(**data_dict)"
   ]
  }
 ],
 "metadata": {
  "kernelspec": {
   "display_name": "Python 3 (ipykernel)",
   "language": "python",
   "name": "python3"
  },
  "language_info": {
   "codemirror_mode": {
    "name": "ipython",
    "version": 3
   },
   "file_extension": ".py",
   "mimetype": "text/x-python",
   "name": "python",
   "nbconvert_exporter": "python",
   "pygments_lexer": "ipython3",
   "version": "3.11.7"
  }
 },
 "nbformat": 4,
 "nbformat_minor": 5
}
