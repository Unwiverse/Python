{
 "cells": [
  {
   "cell_type": "code",
   "execution_count": null,
   "id": "8106f63b",
   "metadata": {},
   "outputs": [],
   "source": [
    "# 함수: 특정 용도의 코드를 한 곳에 모은 거다\n",
    "# 그 예로 지금까지 쓴 print(), input() 등도 전부 파이썬에서 미리 만든 내장함수다\n",
    "# 함수 사용 시 장점\n",
    "# 1. 코드를 재사용할 수 있다\n",
    "# 2. 오류를 줄여줄 수 있다\n",
    "# 3. 코드의 용도를 구분할 수 있다\n",
    "\n",
    "#형식) \n",
    "# def 함수이름(): \n",
    "#     함수 호출 시 실행될 문장"
   ]
  },
  {
   "cell_type": "code",
   "execution_count": 1,
   "id": "f59f1d34",
   "metadata": {},
   "outputs": [
    {
     "name": "stdout",
     "output_type": "stream",
     "text": [
      "hello\n"
     ]
    }
   ],
   "source": [
    "print('hello')"
   ]
  },
  {
   "cell_type": "code",
   "execution_count": 2,
   "id": "7625749e",
   "metadata": {},
   "outputs": [
    {
     "name": "stdout",
     "output_type": "stream",
     "text": [
      "hello\n"
     ]
    }
   ],
   "source": [
    "def func():\n",
    "    print('hello')\n",
    "func()"
   ]
  },
  {
   "cell_type": "code",
   "execution_count": null,
   "id": "d85ce03c",
   "metadata": {},
   "outputs": [],
   "source": [
    "# 함수의 () 안에 인자를 넣어 동작하는 방식\n",
    "# 함수에서 값을 받으려면() 안에 인자 이름을 정하면 됨\n",
    "# 이러한 변수를 매개변수(parameter)라고 함\n",
    "\n",
    "# 형식) \n",
    "#     def 함수이름(매개변수, 매개변수2):\n",
    "#             함수 호출 시 실행될 문장 "
   ]
  },
  {
   "cell_type": "code",
   "execution_count": 6,
   "id": "d1fc7f24",
   "metadata": {},
   "outputs": [
    {
     "name": "stdout",
     "output_type": "stream",
     "text": [
      "2451\n"
     ]
    }
   ],
   "source": [
    "def sum(x, y):\n",
    "    print(x*y)\n",
    "    \n",
    "sum(57, 43)"
   ]
  },
  {
   "cell_type": "code",
   "execution_count": null,
   "id": "dea9f29d",
   "metadata": {},
   "outputs": [],
   "source": [
    "# 함수의 결과를 반환하기\n",
    "# 함수에서 실행된 결과를 반환하기 위해선 실행문 맨 마지막에 return 키워드를 작성하고 결과값을 돌려주면 끝\n",
    "\n",
    "#형식) \n",
    "#      def 함수이름(매개변수):\n",
    "#            return 반환값"
   ]
  },
  {
   "cell_type": "code",
   "execution_count": 9,
   "id": "81fc8d70",
   "metadata": {},
   "outputs": [
    {
     "name": "stdout",
     "output_type": "stream",
     "text": [
      "264\n"
     ]
    }
   ],
   "source": [
    "# 두 수를 곱한 값을 반환해보자\n",
    "def data_mul(su1, su2):\n",
    "    return su1 * su2\n",
    "mul = data_mul(12, 22)"
   ]
  },
  {
   "cell_type": "code",
   "execution_count": 15,
   "id": "d26295d6",
   "metadata": {},
   "outputs": [
    {
     "name": "stdout",
     "output_type": "stream",
     "text": [
      "7\n",
      "20\n"
     ]
    },
    {
     "ename": "NameError",
     "evalue": "name 'c' is not defined",
     "output_type": "error",
     "traceback": [
      "\u001b[1;31m---------------------------------------------------------------------------\u001b[0m",
      "\u001b[1;31mNameError\u001b[0m                                 Traceback (most recent call last)",
      "Cell \u001b[1;32mIn[15], line 9\u001b[0m\n\u001b[0;32m      7\u001b[0m \u001b[38;5;28mprint\u001b[39m(awe_sum(\u001b[38;5;241m5\u001b[39m, \u001b[38;5;241m2\u001b[39m))\n\u001b[0;32m      8\u001b[0m \u001b[38;5;28mprint\u001b[39m(a)\n\u001b[1;32m----> 9\u001b[0m \u001b[38;5;28mprint\u001b[39m(c)\n",
      "\u001b[1;31mNameError\u001b[0m: name 'c' is not defined"
     ]
    }
   ],
   "source": [
    "def awe_sum(su1, su2):\n",
    "    c = 10 # 지역변수(local variable)\n",
    "    result = su1 + su2\n",
    "    return result\n",
    "#전역변수(global variable)\n",
    "a = 20\n",
    "print(awe_sum(5, 2))\n",
    "print(a)\n",
    "print(c)"
   ]
  },
  {
   "cell_type": "code",
   "execution_count": null,
   "id": "05b6cd35",
   "metadata": {},
   "outputs": [],
   "source": [
    "# 함수에서 값을 여러개 반환해줄 수 있다\n",
    "# 형식)\n",
    "#       def 함수이름(인자):\n",
    "#            return 반환값1, 반환값2\n",
    "# 반환받는 값이 여러개일 땐 ,로 구분하면 됨\n",
    "# 반환받는 값이 여러개면 튜플로 반환됨"
   ]
  },
  {
   "cell_type": "code",
   "execution_count": 17,
   "id": "1e29bb8c",
   "metadata": {},
   "outputs": [
    {
     "name": "stdout",
     "output_type": "stream",
     "text": [
      "(12, 8)\n"
     ]
    }
   ],
   "source": [
    "def add_minus(a, b):\n",
    "    return a+b, a-b\n",
    "cal = add_minus(10 ,2)\n",
    "print(cal)"
   ]
  },
  {
   "cell_type": "code",
   "execution_count": 19,
   "id": "ef89de95",
   "metadata": {},
   "outputs": [],
   "source": [
    "def id_check(id):\n",
    "    if id == 'admin':\n",
    "        print(\"Hello, Admin\")\n",
    "        return\n",
    "    print('입력한 아이디', id)"
   ]
  },
  {
   "cell_type": "code",
   "execution_count": 21,
   "id": "94d36127",
   "metadata": {},
   "outputs": [
    {
     "name": "stdout",
     "output_type": "stream",
     "text": [
      "아이디 입력: admin\n",
      "Hello, Admin\n"
     ]
    }
   ],
   "source": [
    "id = input('아이디 입력: ')\n",
    "id_check(id)"
   ]
  },
  {
   "cell_type": "code",
   "execution_count": 22,
   "id": "bcbf33b1",
   "metadata": {},
   "outputs": [
    {
     "name": "stdout",
     "output_type": "stream",
     "text": [
      "10 20 30\n"
     ]
    }
   ],
   "source": [
    "# 위치 인수: 함수에 인수를 순서대로 넣는 방식을 말함\n",
    "print(10, 20, 30)"
   ]
  },
  {
   "cell_type": "code",
   "execution_count": 24,
   "id": "fd188036",
   "metadata": {},
   "outputs": [],
   "source": [
    "def print_number(a, b, c):\n",
    "    print(a)\n",
    "    print(b)\n",
    "    print(c)"
   ]
  },
  {
   "cell_type": "code",
   "execution_count": 25,
   "id": "506feb6e",
   "metadata": {
    "scrolled": true
   },
   "outputs": [
    {
     "name": "stdout",
     "output_type": "stream",
     "text": [
      "23\n",
      "5\n",
      "70\n"
     ]
    }
   ],
   "source": [
    "print_number(23, 5, 70)"
   ]
  },
  {
   "cell_type": "code",
   "execution_count": null,
   "id": "1329a569",
   "metadata": {},
   "outputs": [],
   "source": []
  },
  {
   "cell_type": "code",
   "execution_count": null,
   "id": "572452c4",
   "metadata": {},
   "outputs": [],
   "source": []
  },
  {
   "cell_type": "code",
   "execution_count": 26,
   "id": "2e76d04c",
   "metadata": {},
   "outputs": [
    {
     "name": "stdout",
     "output_type": "stream",
     "text": [
      "41\n",
      "65\n",
      "89\n"
     ]
    }
   ],
   "source": [
    "data = [41, 65, 89]\n",
    "print_number(*data)"
   ]
  },
  {
   "cell_type": "code",
   "execution_count": 27,
   "id": "bd302c48",
   "metadata": {},
   "outputs": [
    {
     "name": "stdout",
     "output_type": "stream",
     "text": [
      "55\n",
      "66\n",
      "77\n"
     ]
    }
   ],
   "source": [
    "tup = (55, 66, 77)\n",
    "print_number(*tup)"
   ]
  },
  {
   "cell_type": "code",
   "execution_count": null,
   "id": "97c3bff2",
   "metadata": {},
   "outputs": [],
   "source": [
    "# 위치 인수나 리스트, 튜플의 언패킹 사용은 인수의 개수가 정해지지않은 가변 인수인 경우에 씀\n",
    "# 즉, 함수에 인수를 한 개만 넣을 수도 있고, 여러개 넣을 수도 있는.....\n",
    "# 형식) \n",
    "#         def 함수 이름(*매개변수):\n",
    "#              함수 호출 시 실행될 코드"
   ]
  },
  {
   "cell_type": "code",
   "execution_count": 35,
   "id": "d5587b83",
   "metadata": {},
   "outputs": [],
   "source": [
    "def print_numbers(*args):\n",
    "    for data in args:\n",
    "        print(data)"
   ]
  },
  {
   "cell_type": "code",
   "execution_count": 36,
   "id": "32d66a98",
   "metadata": {},
   "outputs": [
    {
     "name": "stdout",
     "output_type": "stream",
     "text": [
      "33\n",
      "77\n",
      "12\n"
     ]
    }
   ],
   "source": [
    "print_numbers(33, 77, 12)"
   ]
  },
  {
   "cell_type": "code",
   "execution_count": 37,
   "id": "4262e50e",
   "metadata": {},
   "outputs": [
    {
     "name": "stdout",
     "output_type": "stream",
     "text": [
      "35\n",
      "71\n"
     ]
    }
   ],
   "source": [
    "xy = (35, 71)\n",
    "print_numbers(*xy)"
   ]
  },
  {
   "cell_type": "code",
   "execution_count": 38,
   "id": "bc1a7937",
   "metadata": {},
   "outputs": [
    {
     "name": "stdout",
     "output_type": "stream",
     "text": [
      "11\n",
      "22\n",
      "33\n",
      "44\n",
      "55\n",
      "66\n",
      "77\n",
      "88\n"
     ]
    }
   ],
   "source": [
    "xyz = (11, 22, 33, 44, 55, 66,  77, 88)\n",
    "print_numbers(*xyz)"
   ]
  },
  {
   "cell_type": "code",
   "execution_count": null,
   "id": "048201de",
   "metadata": {},
   "outputs": [],
   "source": [
    "# 만약 고정인수와 가변인수 2개를 같이 써야될 때는 고정 인수를 \n",
    "# 먼저 지정하고, 그 다음에 가변인수를 지정하면 됨 \n",
    "# def 함수이름(a, *args):\n",
    "#     print(a)\n",
    "#     print(args)"
   ]
  }
 ],
 "metadata": {
  "kernelspec": {
   "display_name": "Python 3 (ipykernel)",
   "language": "python",
   "name": "python3"
  },
  "language_info": {
   "codemirror_mode": {
    "name": "ipython",
    "version": 3
   },
   "file_extension": ".py",
   "mimetype": "text/x-python",
   "name": "python",
   "nbconvert_exporter": "python",
   "pygments_lexer": "ipython3",
   "version": "3.11.7"
  }
 },
 "nbformat": 4,
 "nbformat_minor": 5
}
