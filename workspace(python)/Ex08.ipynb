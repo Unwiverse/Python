{
 "cells": [
  {
   "cell_type": "code",
   "execution_count": 1,
   "id": "b7c7cdc7",
   "metadata": {},
   "outputs": [],
   "source": [
    "# 데이터 구조(딕셔너리)\n",
    "# 형식1) 딕셔너리명 = {}\n",
    "# 형식2) 딕셔너리명 = dict()\n",
    "# 형식3) 딕셔너리명 = {키1:값1, 키2:값2}\n",
    "\n",
    "# 추가: 딕셔너리명[새 키] = 새로운 값\n",
    "# 수정: 딕셔너리명[수정할 키] = 수정할 값\n",
    "# 삭제: del 딕셔너리명[삭제할 키]\n",
    "# 읽기: 딕셔너리명[키]"
   ]
  },
  {
   "cell_type": "code",
   "execution_count": 3,
   "id": "1119dfae",
   "metadata": {},
   "outputs": [
    {
     "data": {
      "text/plain": [
       "dict"
      ]
     },
     "execution_count": 3,
     "metadata": {},
     "output_type": "execute_result"
    }
   ],
   "source": [
    "data_dict= {}\n",
    "type(data_dict)"
   ]
  },
  {
   "cell_type": "code",
   "execution_count": 18,
   "id": "d4e8ad93",
   "metadata": {},
   "outputs": [],
   "source": [
    "data_dict = {'롤리롤리롤리팝':'박봄', 'LED':'탑', '색깔은rainbow':'지드래곤', '색깔은rainbow':'다라', '너와나저불빛아래':'대성', '너와나만이아는우리둘의secret':'공민지'}\n",
    "# 키값이 중복된 경우는 뒤에 있는 묶음이 출력됨"
   ]
  },
  {
   "cell_type": "code",
   "execution_count": 19,
   "id": "c28ea56f",
   "metadata": {
    "scrolled": true
   },
   "outputs": [
    {
     "name": "stdout",
     "output_type": "stream",
     "text": [
      "{'롤리롤리롤리팝': '박봄', 'LED': '탑', '색깔은rainbow': '다라', '너와나저불빛아래': '대성', '너와나만이아는우리둘의secret': '공민지'}\n"
     ]
    }
   ],
   "source": [
    "print(data_dict)"
   ]
  },
  {
   "cell_type": "code",
   "execution_count": 6,
   "id": "7597ff24",
   "metadata": {},
   "outputs": [
    {
     "data": {
      "text/plain": [
       "'탑'"
      ]
     },
     "execution_count": 6,
     "metadata": {},
     "output_type": "execute_result"
    }
   ],
   "source": [
    "data_dict['LED']"
   ]
  },
  {
   "cell_type": "code",
   "execution_count": 8,
   "id": "b265f8e3",
   "metadata": {},
   "outputs": [
    {
     "data": {
      "text/plain": [
       "'공민지'"
      ]
     },
     "execution_count": 8,
     "metadata": {},
     "output_type": "execute_result"
    }
   ],
   "source": [
    "data_dict['너와나만이아는우리둘의secret']"
   ]
  },
  {
   "cell_type": "code",
   "execution_count": 12,
   "id": "a7332be1",
   "metadata": {},
   "outputs": [
    {
     "name": "stdout",
     "output_type": "stream",
     "text": [
      "{'롤리롤리롤리팝': '안녕', 'LED': '탑', '색깔은rainbow': '지드래곤', '너와나저불빛아래': '대성', '너와나만이아는우리둘의secret': '공민지'}\n"
     ]
    }
   ],
   "source": [
    "#딕셔너리에 데이터를 수정하는 경우\n",
    "data_dict['롤리롤리롤리팝'] = '안녕'\n"
   ]
  },
  {
   "cell_type": "code",
   "execution_count": 15,
   "id": "82d529ed",
   "metadata": {},
   "outputs": [
    {
     "data": {
      "text/plain": [
       "dict_keys(['롤리롤리롤리팝', 'LED', '색깔은rainbow', '너와나저불빛아래', '너와나만이아는우리둘의secret'])"
      ]
     },
     "execution_count": 15,
     "metadata": {},
     "output_type": "execute_result"
    }
   ],
   "source": [
    "# 딕셔너리에 있는 키만 출력할 경우\n",
    "# 형식) 딕셔너리명.keys()\n",
    "# 결과값은 list 형태로 추출됨\n",
    "data_dict.keys()"
   ]
  },
  {
   "cell_type": "code",
   "execution_count": 16,
   "id": "b44d7cb5",
   "metadata": {
    "scrolled": true
   },
   "outputs": [
    {
     "data": {
      "text/plain": [
       "dict_values(['안녕', '탑', '지드래곤', '대성', '공민지'])"
      ]
     },
     "execution_count": 16,
     "metadata": {},
     "output_type": "execute_result"
    }
   ],
   "source": [
    "data_dict.values()"
   ]
  },
  {
   "cell_type": "code",
   "execution_count": 17,
   "id": "6756f626",
   "metadata": {},
   "outputs": [
    {
     "data": {
      "text/plain": [
       "dict_items([('롤리롤리롤리팝', '안녕'), ('LED', '탑'), ('색깔은rainbow', '지드래곤'), ('너와나저불빛아래', '대성'), ('너와나만이아는우리둘의secret', '공민지')])"
      ]
     },
     "execution_count": 17,
     "metadata": {},
     "output_type": "execute_result"
    }
   ],
   "source": [
    "# items() 함수\n",
    "# 딕셔너리 데이터를 전체를 가져오는 함수\n",
    "# 결과값은 리스트 형태로 가져오는 함수\n",
    "data_dict.items()"
   ]
  },
  {
   "cell_type": "code",
   "execution_count": null,
   "id": "ed8b6942",
   "metadata": {},
   "outputs": [],
   "source": []
  },
  {
   "cell_type": "code",
   "execution_count": null,
   "id": "71ce6d22",
   "metadata": {},
   "outputs": [],
   "source": []
  },
  {
   "cell_type": "code",
   "execution_count": null,
   "id": "392c70f7",
   "metadata": {},
   "outputs": [],
   "source": []
  },
  {
   "cell_type": "code",
   "execution_count": null,
   "id": "48d41633",
   "metadata": {},
   "outputs": [],
   "source": []
  }
 ],
 "metadata": {
  "kernelspec": {
   "display_name": "Python 3 (ipykernel)",
   "language": "python",
   "name": "python3"
  },
  "language_info": {
   "codemirror_mode": {
    "name": "ipython",
    "version": 3
   },
   "file_extension": ".py",
   "mimetype": "text/x-python",
   "name": "python",
   "nbconvert_exporter": "python",
   "pygments_lexer": "ipython3",
   "version": "3.11.7"
  }
 },
 "nbformat": 4,
 "nbformat_minor": 5
}
