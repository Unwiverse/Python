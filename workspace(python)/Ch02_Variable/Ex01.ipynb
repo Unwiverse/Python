{
 "cells": [
  {
   "cell_type": "code",
   "execution_count": 1,
   "id": "1398343d",
   "metadata": {},
   "outputs": [
    {
     "name": "stdout",
     "output_type": "stream",
     "text": [
      "이병 최일구\n"
     ]
    }
   ],
   "source": [
    "# 변수 \n",
    "# 변수는 계산 결과를 바로 출력할 순 있는데, 결과를 계속 갖고 있진 못함\n",
    "# 이럴 때 쓰는 것이 변수임\n",
    "\n",
    "# 변수 사용 규칙: 영문 문자와 숫자를 쓸 수 있음\n",
    "# 대소문자를 구분함. 문자부터 시작해야 하며 숫자부터 시작하면 안됨\n",
    "#_(밑줄문자)부터 시작할 수 있음\n",
    "# 특수문자(+, -, /, @, &, %)는 못씀\n",
    "# 파이썬의 키워드(if, for, while, and, or 등)는 못씀"
   ]
  },
  {
   "cell_type": "code",
   "execution_count": 6,
   "id": "7d92fb59",
   "metadata": {},
   "outputs": [],
   "source": [
    "str_data = \"hello\" #문자열(string) 변수\n",
    "int_data = 10 # 숫자 변수(integer)\n",
    "float_data = 10.7 # 숫자 변수(float)\n",
    "bool_data = False # boolean 변수 True/False"
   ]
  },
  {
   "cell_type": "code",
   "execution_count": 8,
   "id": "9dcbc7b6",
   "metadata": {},
   "outputs": [
    {
     "name": "stdout",
     "output_type": "stream",
     "text": [
      "hello\n",
      "10\n",
      "10.7\n",
      "False\n"
     ]
    }
   ],
   "source": [
    "print(str_data)\n",
    "print(int_data)\n",
    "print(float_data)\n",
    "print(bool_data)"
   ]
  },
  {
   "cell_type": "markdown",
   "id": "568f47d5",
   "metadata": {},
   "source": [
    "#### 값을 정수로 만드는 방법\n",
    "    ★ int(숫자)\n",
    "    ★ int(수식 - 계산식)\n",
    "    ★ int(문자열) \n",
    "       ==> 특히 문자열을  숫자로 만들 땐 정수로 돼있어야 함"
   ]
  },
  {
   "cell_type": "code",
   "execution_count": 11,
   "id": "ffb1d482",
   "metadata": {},
   "outputs": [
    {
     "data": {
      "text/plain": [
       "2"
      ]
     },
     "execution_count": 11,
     "metadata": {},
     "output_type": "execute_result"
    }
   ],
   "source": [
    "int(3.3) \n"
   ]
  },
  {
   "cell_type": "code",
   "execution_count": 12,
   "id": "7ea2a04e",
   "metadata": {},
   "outputs": [
    {
     "data": {
      "text/plain": [
       "2"
      ]
     },
     "execution_count": 12,
     "metadata": {},
     "output_type": "execute_result"
    }
   ],
   "source": [
    "int(5/2)"
   ]
  },
  {
   "cell_type": "code",
   "execution_count": 13,
   "id": "2a3d4d8b",
   "metadata": {},
   "outputs": [
    {
     "data": {
      "text/plain": [
       "2.5"
      ]
     },
     "execution_count": 13,
     "metadata": {},
     "output_type": "execute_result"
    }
   ],
   "source": [
    "(5/2)"
   ]
  },
  {
   "cell_type": "code",
   "execution_count": 14,
   "id": "c93b1a0d",
   "metadata": {},
   "outputs": [
    {
     "data": {
      "text/plain": [
       "10"
      ]
     },
     "execution_count": 14,
     "metadata": {},
     "output_type": "execute_result"
    }
   ],
   "source": [
    "int('10')"
   ]
  },
  {
   "cell_type": "code",
   "execution_count": 15,
   "id": "b6bb17c7",
   "metadata": {},
   "outputs": [
    {
     "name": "stdout",
     "output_type": "stream",
     "text": [
      "홍길동\n"
     ]
    }
   ],
   "source": [
    "name= '홍길동' \n",
    "print(name)"
   ]
  },
  {
   "cell_type": "code",
   "execution_count": null,
   "id": "d802a183",
   "metadata": {},
   "outputs": [],
   "source": [
    "# 변수의 자료형을 알아내는 방법\n",
    "# 형식) type(변수명) "
   ]
  },
  {
   "cell_type": "code",
   "execution_count": 16,
   "id": "aa26f6a6",
   "metadata": {},
   "outputs": [
    {
     "data": {
      "text/plain": [
       "str"
      ]
     },
     "execution_count": 16,
     "metadata": {},
     "output_type": "execute_result"
    }
   ],
   "source": [
    "type(name)"
   ]
  },
  {
   "cell_type": "code",
   "execution_count": 18,
   "id": "afaa78ee",
   "metadata": {},
   "outputs": [],
   "source": [
    "# 변수 여러개를 한 번에 만드는법\n",
    "# 형식) 변수1, 변수2, 변수3 = 값1, 값2, 값3\n",
    "x, y, z = 10, 20, 30"
   ]
  },
  {
   "cell_type": "code",
   "execution_count": 25,
   "id": "5f85e45e",
   "metadata": {},
   "outputs": [
    {
     "name": "stdout",
     "output_type": "stream",
     "text": [
      "x:  10\n",
      "y:  20\n",
      "z:  30\n"
     ]
    }
   ],
   "source": [
    "print('x: ', x)\n",
    "print('y: ', y)\n",
    "print('z: ', z)"
   ]
  },
  {
   "cell_type": "code",
   "execution_count": 28,
   "id": "bfaac6f3",
   "metadata": {},
   "outputs": [],
   "source": [
    "# 두 변수의 값을 바꾸고 싶을 때 \n",
    "# 형식) 변수1, 변수2 = 변수2의 값, 변수1의 값"
   ]
  },
  {
   "cell_type": "code",
   "execution_count": 33,
   "id": "889f20ab",
   "metadata": {},
   "outputs": [],
   "source": [
    "x, y = 10, 20\n",
    "x, y = y, x"
   ]
  },
  {
   "cell_type": "code",
   "execution_count": 34,
   "id": "7db2d36d",
   "metadata": {},
   "outputs": [
    {
     "name": "stdout",
     "output_type": "stream",
     "text": [
      "20\n",
      "10\n"
     ]
    }
   ],
   "source": [
    "print(x)\n",
    "print(y)"
   ]
  },
  {
   "cell_type": "code",
   "execution_count": 35,
   "id": "a918e9be",
   "metadata": {},
   "outputs": [
    {
     "data": {
      "text/plain": [
       "0"
      ]
     },
     "execution_count": 35,
     "metadata": {},
     "output_type": "execute_result"
    }
   ],
   "source": [
    "su = 10\n",
    "su - 10"
   ]
  },
  {
   "cell_type": "code",
   "execution_count": 36,
   "id": "9cc229ab",
   "metadata": {},
   "outputs": [
    {
     "name": "stdout",
     "output_type": "stream",
     "text": [
      "10\n"
     ]
    }
   ],
   "source": [
    "print(su)"
   ]
  },
  {
   "cell_type": "code",
   "execution_count": 37,
   "id": "d4819f57",
   "metadata": {},
   "outputs": [],
   "source": [
    "su += 20 # 계산 결과를 유지하기 위해선 다시 변수에 저장해야됨"
   ]
  },
  {
   "cell_type": "code",
   "execution_count": 38,
   "id": "1caec8a0",
   "metadata": {},
   "outputs": [
    {
     "name": "stdout",
     "output_type": "stream",
     "text": [
      "30\n"
     ]
    }
   ],
   "source": [
    "print(su)"
   ]
  },
  {
   "cell_type": "code",
   "execution_count": null,
   "id": "8a6e9dac",
   "metadata": {},
   "outputs": [],
   "source": []
  },
  {
   "cell_type": "code",
   "execution_count": null,
   "id": "fff5b306",
   "metadata": {},
   "outputs": [],
   "source": []
  },
  {
   "cell_type": "code",
   "execution_count": null,
   "id": "19ef338c",
   "metadata": {},
   "outputs": [],
   "source": []
  },
  {
   "cell_type": "code",
   "execution_count": null,
   "id": "85336996",
   "metadata": {},
   "outputs": [],
   "source": []
  },
  {
   "cell_type": "code",
   "execution_count": null,
   "id": "a6d27ff8",
   "metadata": {},
   "outputs": [],
   "source": []
  }
 ],
 "metadata": {
  "kernelspec": {
   "display_name": "Python 3 (ipykernel)",
   "language": "python",
   "name": "python3"
  },
  "language_info": {
   "codemirror_mode": {
    "name": "ipython",
    "version": 3
   },
   "file_extension": ".py",
   "mimetype": "text/x-python",
   "name": "python",
   "nbconvert_exporter": "python",
   "pygments_lexer": "ipython3",
   "version": "3.11.7"
  }
 },
 "nbformat": 4,
 "nbformat_minor": 5
}
