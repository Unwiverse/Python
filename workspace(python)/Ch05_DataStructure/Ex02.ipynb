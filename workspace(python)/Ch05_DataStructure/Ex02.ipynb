{
 "cells": [
  {
   "cell_type": "code",
   "execution_count": 3,
   "id": "7bd7e576",
   "metadata": {},
   "outputs": [],
   "source": [
    "# 비어있는 리스트 만드는법 - 두 번째\n",
    "# 형식) 리스트이름 = []"
   ]
  },
  {
   "cell_type": "code",
   "execution_count": 4,
   "id": "5a1e0085",
   "metadata": {},
   "outputs": [
    {
     "name": "stdout",
     "output_type": "stream",
     "text": [
      "서울시\n"
     ]
    }
   ],
   "source": [
    "location = list()\n",
    "location.append(input())"
   ]
  },
  {
   "cell_type": "code",
   "execution_count": 5,
   "id": "e3893331",
   "metadata": {},
   "outputs": [
    {
     "name": "stdout",
     "output_type": "stream",
     "text": [
      "부산시\n"
     ]
    }
   ],
   "source": [
    "location.append(input())"
   ]
  },
  {
   "cell_type": "code",
   "execution_count": 6,
   "id": "3d47a863",
   "metadata": {},
   "outputs": [
    {
     "name": "stdout",
     "output_type": "stream",
     "text": [
      "['서울시', '부산시']\n"
     ]
    }
   ],
   "source": [
    "print(location)"
   ]
  },
  {
   "cell_type": "code",
   "execution_count": 7,
   "id": "c0423c97",
   "metadata": {},
   "outputs": [
    {
     "name": "stdout",
     "output_type": "stream",
     "text": [
      "울릉군\n"
     ]
    }
   ],
   "source": [
    "location.append(input())"
   ]
  },
  {
   "cell_type": "code",
   "execution_count": 8,
   "id": "1d7d1c81",
   "metadata": {},
   "outputs": [
    {
     "name": "stdout",
     "output_type": "stream",
     "text": [
      "['서울시', '부산시', '울릉군']\n"
     ]
    }
   ],
   "source": [
    "print(location)"
   ]
  },
  {
   "cell_type": "code",
   "execution_count": 10,
   "id": "35b8b827",
   "metadata": {},
   "outputs": [
    {
     "name": "stdout",
     "output_type": "stream",
     "text": [
      "['서울시', '부산시', '하동군']\n"
     ]
    }
   ],
   "source": [
    "# 리스트에 있는 특정 데이터를 수정할 수 있음\n",
    "# 형식) 리스트변수(인덱스 번호) = 수정할 데이터\n",
    "location[2] = '하동군'\n",
    "print(location)"
   ]
  },
  {
   "cell_type": "code",
   "execution_count": null,
   "id": "cd5bcac3",
   "metadata": {},
   "outputs": [],
   "source": [
    "# 비어있는 리스트를 만들고 데이터 추가\n",
    "# 예) names = list()"
   ]
  },
  {
   "cell_type": "code",
   "execution_count": 11,
   "id": "dd2bfb1e",
   "metadata": {},
   "outputs": [],
   "source": [
    "computers = list()"
   ]
  },
  {
   "cell_type": "code",
   "execution_count": 12,
   "id": "69c22e0f",
   "metadata": {},
   "outputs": [
    {
     "name": "stdout",
     "output_type": "stream",
     "text": [
      "i5 13400F RTX4060\n"
     ]
    }
   ],
   "source": [
    "computers.append(input())"
   ]
  },
  {
   "cell_type": "code",
   "execution_count": 13,
   "id": "5fef2062",
   "metadata": {},
   "outputs": [
    {
     "name": "stdout",
     "output_type": "stream",
     "text": [
      "이런말씀입니다\n"
     ]
    }
   ],
   "source": [
    "computers.append(input())"
   ]
  },
  {
   "cell_type": "code",
   "execution_count": 14,
   "id": "17f4b801",
   "metadata": {},
   "outputs": [
    {
     "name": "stdout",
     "output_type": "stream",
     "text": [
      "['i5 13400F RTX4060', '이런말씀입니다']\n"
     ]
    }
   ],
   "source": [
    "print(computers)"
   ]
  },
  {
   "cell_type": "code",
   "execution_count": 15,
   "id": "516256c0",
   "metadata": {},
   "outputs": [
    {
     "name": "stdout",
     "output_type": "stream",
     "text": [
      "진촉촉\n"
     ]
    }
   ],
   "source": [
    "computers.append(input())"
   ]
  },
  {
   "cell_type": "code",
   "execution_count": 16,
   "id": "a5f96905",
   "metadata": {},
   "outputs": [],
   "source": [
    "del computers[0]"
   ]
  },
  {
   "cell_type": "code",
   "execution_count": 17,
   "id": "87caebd7",
   "metadata": {},
   "outputs": [],
   "source": [
    "computers.insert(2, '야스오')"
   ]
  },
  {
   "cell_type": "code",
   "execution_count": 18,
   "id": "322f076f",
   "metadata": {},
   "outputs": [
    {
     "name": "stdout",
     "output_type": "stream",
     "text": [
      "['이런말씀입니다', '진촉촉', '야스오']\n"
     ]
    }
   ],
   "source": [
    "print(computers)"
   ]
  },
  {
   "cell_type": "code",
   "execution_count": 19,
   "id": "3b26472f",
   "metadata": {},
   "outputs": [
    {
     "name": "stdout",
     "output_type": "stream",
     "text": [
      "소환사의협곡에오신것을환영해야되냐?\n"
     ]
    }
   ],
   "source": [
    "computers.append(input())"
   ]
  },
  {
   "cell_type": "code",
   "execution_count": 20,
   "id": "760413fd",
   "metadata": {},
   "outputs": [
    {
     "name": "stdout",
     "output_type": "stream",
     "text": [
      "['이런말씀입니다', '진촉촉', '야스오', '소환사의협곡에오신것을환영해야되냐?']\n"
     ]
    }
   ],
   "source": [
    "print(computers)"
   ]
  },
  {
   "cell_type": "code",
   "execution_count": 21,
   "id": "9afb6af6",
   "metadata": {},
   "outputs": [
    {
     "name": "stdout",
     "output_type": "stream",
     "text": [
      "무, 무슨?\n"
     ]
    }
   ],
   "source": [
    "computers.append(input())"
   ]
  },
  {
   "cell_type": "code",
   "execution_count": 22,
   "id": "0fc4b09f",
   "metadata": {},
   "outputs": [
    {
     "name": "stdout",
     "output_type": "stream",
     "text": [
      "['이런말씀입니다', '진촉촉', '야스오', '소환사의협곡에오신것을환영해야되냐?', '무, 무슨?']\n"
     ]
    }
   ],
   "source": [
    "print(computers)"
   ]
  },
  {
   "cell_type": "code",
   "execution_count": 23,
   "id": "6208ed62",
   "metadata": {},
   "outputs": [
    {
     "name": "stdout",
     "output_type": "stream",
     "text": [
      "마이피씨샵 명품 DIY 7800X3D RTX4070 Super (32GB, M.2 1TB)\n"
     ]
    }
   ],
   "source": [
    "computers.append(input())"
   ]
  },
  {
   "cell_type": "code",
   "execution_count": 24,
   "id": "49d9bbf6",
   "metadata": {},
   "outputs": [
    {
     "name": "stdout",
     "output_type": "stream",
     "text": [
      "['이런말씀입니다', '진촉촉', '야스오', '소환사의협곡에오신것을환영해야되냐?', '무, 무슨?', '마이피씨샵 명품 DIY 7800X3D RTX4070 Super (32GB, M.2 1TB)']\n"
     ]
    }
   ],
   "source": [
    "print(computers)"
   ]
  },
  {
   "cell_type": "code",
   "execution_count": null,
   "id": "d7ddc069",
   "metadata": {},
   "outputs": [],
   "source": [
    "# 리스트\n",
    "# 1. 리스트 선언\n",
    "#  - 리스트 변수 = []\n",
    "#  - 리스트 변수 = list()\n",
    "#  - 리스트 변수 = [데이터1, 데이터2,...데이터n]\n",
    "\n",
    "# 2. 리스트 추가\n",
    "#  - 리스트변수.append(데이터)\n",
    "#  - 리스트변수.insert(인덱스번호, 데이터)\n",
    "\n",
    "# 3. 리스트 수정\n",
    "#  - 리스트변수[인덱스번호] = 수정할 데이터\n",
    "\n",
    "# 4. 리스트 삭제\n",
    "#  - 리스트변수.remove(삭제할 데이터)\n",
    "#  - del 리스트변수[삭제할인덱스번호]\n",
    "\n",
    "\n"
   ]
  }
 ],
 "metadata": {
  "kernelspec": {
   "display_name": "Python 3 (ipykernel)",
   "language": "python",
   "name": "python3"
  },
  "language_info": {
   "codemirror_mode": {
    "name": "ipython",
    "version": 3
   },
   "file_extension": ".py",
   "mimetype": "text/x-python",
   "name": "python",
   "nbconvert_exporter": "python",
   "pygments_lexer": "ipython3",
   "version": "3.11.7"
  }
 },
 "nbformat": 4,
 "nbformat_minor": 5
}
