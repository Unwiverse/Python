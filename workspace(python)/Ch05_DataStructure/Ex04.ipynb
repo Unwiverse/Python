{
 "cells": [
  {
   "cell_type": "code",
   "execution_count": 2,
   "id": "3ea0ffc4",
   "metadata": {},
   "outputs": [],
   "source": [
    "# 데이터 구조 - 튜플(tuple)\n",
    "# 형식1) 튜플명 = (데이터1, 데이터2, 데이터3,......데이터n)\n",
    "# 형식2) 튜플명 = ()\n",
    "# 형식3) 튜플명 = tuple()\n",
    "# 형식4) 튜플명 = 데이터1, 데이터2, 데이터3,......\n",
    "# 읽기만 가능함(중요!!)\n",
    "# 데이터를 추가하거나 수정하거나 삭제는 불가능함\n",
    "# 튜플은 절대 변경안됨 그대로 써야할 때 쓰임(상수처럼 취급함)"
   ]
  },
  {
   "cell_type": "code",
   "execution_count": 4,
   "id": "d37be517",
   "metadata": {},
   "outputs": [
    {
     "name": "stdout",
     "output_type": "stream",
     "text": [
      "<class 'tuple'>\n"
     ]
    }
   ],
   "source": [
    "data = tuple()\n",
    "\n",
    "print(type(data))"
   ]
  },
  {
   "cell_type": "code",
   "execution_count": 5,
   "id": "6703e907",
   "metadata": {},
   "outputs": [
    {
     "name": "stdout",
     "output_type": "stream",
     "text": [
      "(1, 2, 3, 4, 5)\n"
     ]
    }
   ],
   "source": [
    "data = (1, 2, 3, 4, 5)\n",
    "print(data)"
   ]
  },
  {
   "cell_type": "code",
   "execution_count": null,
   "id": "f593e304",
   "metadata": {},
   "outputs": [],
   "source": [
    "# 튜플의 특징\n",
    "# 튜플은 괄호를 이용해 선언함\n",
    "# 튜플은 추가나 삭제가 안됨\n",
    "# 튜플은 튜플끼리 더하거나 반복은 가능"
   ]
  },
  {
   "cell_type": "code",
   "execution_count": 6,
   "id": "89bfa367",
   "metadata": {},
   "outputs": [
    {
     "name": "stdout",
     "output_type": "stream",
     "text": [
      "(1, 2, 3, 4, 6, 7, 8)\n"
     ]
    }
   ],
   "source": [
    "data1 = (1, 2, 3, 4)\n",
    "data2 = (6, 7, 8)\n",
    "print(data1+data2)"
   ]
  },
  {
   "cell_type": "code",
   "execution_count": 8,
   "id": "59ad3f0b",
   "metadata": {},
   "outputs": [
    {
     "name": "stdout",
     "output_type": "stream",
     "text": [
      "(1, 2, 3, 4, 6, 7, 8, 1, 2, 3, 4, 6, 7, 8, 1, 2, 3, 4, 6, 7, 8)\n"
     ]
    }
   ],
   "source": [
    "print((data1+data2)*3)"
   ]
  },
  {
   "cell_type": "code",
   "execution_count": null,
   "id": "ddb09c5f",
   "metadata": {},
   "outputs": [],
   "source": [
    "# 튜플을 곱하기(*)를 하면 해당 곱한 수만큼 반복 출력됨"
   ]
  },
  {
   "cell_type": "code",
   "execution_count": 10,
   "id": "6a20fb6b",
   "metadata": {},
   "outputs": [],
   "source": [
    "def mul_return(a):\n",
    "    b= a+5\n",
    "    return a, b"
   ]
  },
  {
   "cell_type": "code",
   "execution_count": 11,
   "id": "49a37567",
   "metadata": {},
   "outputs": [
    {
     "data": {
      "text/plain": [
       "(5, 10)"
      ]
     },
     "execution_count": 11,
     "metadata": {},
     "output_type": "execute_result"
    }
   ],
   "source": [
    "mul_return(5)"
   ]
  }
 ],
 "metadata": {
  "kernelspec": {
   "display_name": "Python 3 (ipykernel)",
   "language": "python",
   "name": "python3"
  },
  "language_info": {
   "codemirror_mode": {
    "name": "ipython",
    "version": 3
   },
   "file_extension": ".py",
   "mimetype": "text/x-python",
   "name": "python",
   "nbconvert_exporter": "python",
   "pygments_lexer": "ipython3",
   "version": "3.11.7"
  }
 },
 "nbformat": 4,
 "nbformat_minor": 5
}
