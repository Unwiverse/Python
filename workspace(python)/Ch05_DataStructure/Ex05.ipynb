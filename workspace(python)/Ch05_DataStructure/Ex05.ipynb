{
 "cells": [
  {
   "cell_type": "code",
   "execution_count": null,
   "id": "79e08d85",
   "metadata": {},
   "outputs": [],
   "source": [
    "# range를 사용하여 튜플 만들기\n",
    "\n",
    "# 방법 1. 튜플 = tuple(range(횟수))\n",
    "# 방법 2. 튜플 = tuple(range(시작, 끝(-1)))\n",
    "# 방법 3, 튜플 - tuple(range(시작 ,끝(-1), 증가폭))"
   ]
  },
  {
   "cell_type": "code",
   "execution_count": 1,
   "id": "ec7186e9",
   "metadata": {},
   "outputs": [
    {
     "name": "stdout",
     "output_type": "stream",
     "text": [
      "(0, 1, 2, 3, 4, 5, 6, 7, 8, 9)\n"
     ]
    }
   ],
   "source": [
    "data1 = tuple(range(10))\n",
    "\n",
    "print(data1)"
   ]
  },
  {
   "cell_type": "code",
   "execution_count": 2,
   "id": "e7a3e389",
   "metadata": {},
   "outputs": [
    {
     "name": "stdout",
     "output_type": "stream",
     "text": [
      "(1, 2, 3, 4, 5, 6, 7, 8, 9)\n"
     ]
    }
   ],
   "source": [
    "data2 = tuple(range(1, 10))\n",
    "print(data2)"
   ]
  },
  {
   "cell_type": "code",
   "execution_count": 5,
   "id": "7def5fe2",
   "metadata": {},
   "outputs": [
    {
     "name": "stdout",
     "output_type": "stream",
     "text": [
      "(1, 4, 7, 10, 13, 16, 19)\n"
     ]
    }
   ],
   "source": [
    "data3 = tuple(range(1, 20, 3))\n",
    "print(data3)"
   ]
  },
  {
   "cell_type": "code",
   "execution_count": null,
   "id": "2c510f0a",
   "metadata": {},
   "outputs": [],
   "source": [
    "# 리스트 -> 튜플, 튜플 -> 리스트 (형변환)"
   ]
  },
  {
   "cell_type": "code",
   "execution_count": 7,
   "id": "02a0488a",
   "metadata": {},
   "outputs": [
    {
     "data": {
      "text/plain": [
       "tuple"
      ]
     },
     "execution_count": 7,
     "metadata": {},
     "output_type": "execute_result"
    }
   ],
   "source": [
    "data10 = (1, 2, 3, 4, 5) # 튜플 데이터\n",
    "type(data10)"
   ]
  },
  {
   "cell_type": "code",
   "execution_count": 9,
   "id": "a966d848",
   "metadata": {},
   "outputs": [],
   "source": [
    "data_list = list(data10)"
   ]
  },
  {
   "cell_type": "code",
   "execution_count": 10,
   "id": "bc70a673",
   "metadata": {},
   "outputs": [
    {
     "data": {
      "text/plain": [
       "list"
      ]
     },
     "execution_count": 10,
     "metadata": {},
     "output_type": "execute_result"
    }
   ],
   "source": [
    "type(data_list)"
   ]
  },
  {
   "cell_type": "code",
   "execution_count": 11,
   "id": "87bb3066",
   "metadata": {},
   "outputs": [
    {
     "name": "stdout",
     "output_type": "stream",
     "text": [
      "[1, 2, 3, 4, 5]\n"
     ]
    }
   ],
   "source": [
    "print(data_list)"
   ]
  },
  {
   "cell_type": "code",
   "execution_count": 14,
   "id": "6001efe9",
   "metadata": {},
   "outputs": [],
   "source": [
    "data_tuple = tuple(data_list)"
   ]
  },
  {
   "cell_type": "code",
   "execution_count": 15,
   "id": "403659a6",
   "metadata": {},
   "outputs": [
    {
     "data": {
      "text/plain": [
       "tuple"
      ]
     },
     "execution_count": 15,
     "metadata": {},
     "output_type": "execute_result"
    }
   ],
   "source": [
    "type(data_tuple)"
   ]
  },
  {
   "cell_type": "code",
   "execution_count": 16,
   "id": "5f387b32",
   "metadata": {},
   "outputs": [
    {
     "name": "stdout",
     "output_type": "stream",
     "text": [
      "(1, 2, 3, 4, 5)\n"
     ]
    }
   ],
   "source": [
    "print(data_tuple)"
   ]
  }
 ],
 "metadata": {
  "kernelspec": {
   "display_name": "Python 3 (ipykernel)",
   "language": "python",
   "name": "python3"
  },
  "language_info": {
   "codemirror_mode": {
    "name": "ipython",
    "version": 3
   },
   "file_extension": ".py",
   "mimetype": "text/x-python",
   "name": "python",
   "nbconvert_exporter": "python",
   "pygments_lexer": "ipython3",
   "version": "3.11.7"
  }
 },
 "nbformat": 4,
 "nbformat_minor": 5
}
