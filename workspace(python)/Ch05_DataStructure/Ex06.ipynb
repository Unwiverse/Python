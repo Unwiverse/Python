{
 "cells": [
  {
   "cell_type": "code",
   "execution_count": 1,
   "id": "ce58da18",
   "metadata": {},
   "outputs": [],
   "source": [
    "# 지금껏 썼던 list, tuple, range, string을 보면 공통점이 있다\n",
    "# 모두 값이 연속적으로 들어있다는 특징이 있다\n",
    "# 파이썬에선 이렇게 연속적으로 값이 들어있는 자료형을 sequence 자료형이라고 함\n",
    "# sequence 자료형의 공통 기능"
   ]
  },
  {
   "cell_type": "code",
   "execution_count": 6,
   "id": "68420eee",
   "metadata": {},
   "outputs": [
    {
     "data": {
      "text/plain": [
       "False"
      ]
     },
     "execution_count": 6,
     "metadata": {},
     "output_type": "execute_result"
    }
   ],
   "source": [
    "# 특정한 값이 있는가 확인\n",
    "data = [10, 20, 30, 40, 50, 60, 70, 80] # list data\n",
    "12 in data"
   ]
  },
  {
   "cell_type": "code",
   "execution_count": 7,
   "id": "de0ed91c",
   "metadata": {},
   "outputs": [
    {
     "data": {
      "text/plain": [
       "False"
      ]
     },
     "execution_count": 7,
     "metadata": {},
     "output_type": "execute_result"
    }
   ],
   "source": [
    "100 in data"
   ]
  },
  {
   "cell_type": "code",
   "execution_count": 8,
   "id": "1c8ab959",
   "metadata": {},
   "outputs": [
    {
     "data": {
      "text/plain": [
       "True"
      ]
     },
     "execution_count": 8,
     "metadata": {},
     "output_type": "execute_result"
    }
   ],
   "source": [
    "100 not in data"
   ]
  },
  {
   "cell_type": "code",
   "execution_count": null,
   "id": "4f3c6395",
   "metadata": {},
   "outputs": [],
   "source": [
    "# in 키워드는 시퀀스 객체에 있는지 여부를 묻는 키워드\n",
    "# 있다면 True, 없으면 False를 반환함\n",
    "# not in 키워드야 뭐 반대니까 알아서 잘 쓰시고 ^^"
   ]
  },
  {
   "cell_type": "code",
   "execution_count": 9,
   "id": "5ce95e99",
   "metadata": {},
   "outputs": [
    {
     "data": {
      "text/plain": [
       "True"
      ]
     },
     "execution_count": 9,
     "metadata": {},
     "output_type": "execute_result"
    }
   ],
   "source": [
    "# 튜플 데이터\n",
    "data2= (34, 39, 33, 71, 2)\n",
    "71 in data2"
   ]
  },
  {
   "cell_type": "code",
   "execution_count": 12,
   "id": "643fa5fe",
   "metadata": {},
   "outputs": [
    {
     "data": {
      "text/plain": [
       "False"
      ]
     },
     "execution_count": 12,
     "metadata": {},
     "output_type": "execute_result"
    }
   ],
   "source": [
    "# range 데이터\n",
    "10 in range(10)"
   ]
  },
  {
   "cell_type": "code",
   "execution_count": 13,
   "id": "5cbcdb9f",
   "metadata": {},
   "outputs": [
    {
     "data": {
      "text/plain": [
       "True"
      ]
     },
     "execution_count": 13,
     "metadata": {},
     "output_type": "execute_result"
    }
   ],
   "source": [
    "# string 데이터\n",
    "'o' in 'Hello Python'"
   ]
  },
  {
   "cell_type": "code",
   "execution_count": 14,
   "id": "cc239a48",
   "metadata": {},
   "outputs": [
    {
     "data": {
      "text/plain": [
       "True"
      ]
     },
     "execution_count": 14,
     "metadata": {},
     "output_type": "execute_result"
    }
   ],
   "source": [
    "'튜' in '튜플'"
   ]
  },
  {
   "cell_type": "code",
   "execution_count": null,
   "id": "cf7d52a6",
   "metadata": {},
   "outputs": [],
   "source": [
    "# sequence 객체를 연결하는 것도 가능\n",
    "# sequence 객체1+객체2 "
   ]
  },
  {
   "cell_type": "code",
   "execution_count": 16,
   "id": "9c8dd2d7",
   "metadata": {},
   "outputs": [
    {
     "data": {
      "text/plain": [
       "[1, 2, 3, 4, 5, 10, 20, 30, 40, 50]"
      ]
     },
     "execution_count": 16,
     "metadata": {},
     "output_type": "execute_result"
    }
   ],
   "source": [
    "data1 = [1, 2, 3, 4, 5]\n",
    "data2 = [10, 20, 30, 40, 50]\n",
    "data1 + data2"
   ]
  },
  {
   "cell_type": "code",
   "execution_count": 17,
   "id": "2ccae4f7",
   "metadata": {},
   "outputs": [
    {
     "ename": "TypeError",
     "evalue": "unsupported operand type(s) for +: 'range' and 'range'",
     "output_type": "error",
     "traceback": [
      "\u001b[1;31m---------------------------------------------------------------------------\u001b[0m",
      "\u001b[1;31mTypeError\u001b[0m                                 Traceback (most recent call last)",
      "Cell \u001b[1;32mIn[17], line 3\u001b[0m\n\u001b[0;32m      1\u001b[0m \u001b[38;5;66;03m# 단 sequence 자료형 중에 range는 서로 연결 불가\u001b[39;00m\n\u001b[0;32m      2\u001b[0m \u001b[38;5;66;03m# range 자료형은 리스트나 튜플로 변환해 연결 쌉가능\u001b[39;00m\n\u001b[1;32m----> 3\u001b[0m \u001b[38;5;28mrange\u001b[39m(\u001b[38;5;241m0\u001b[39m, \u001b[38;5;241m10\u001b[39m) \u001b[38;5;241m+\u001b[39m \u001b[38;5;28mrange\u001b[39m(\u001b[38;5;241m0\u001b[39m, \u001b[38;5;241m10\u001b[39m)\n",
      "\u001b[1;31mTypeError\u001b[0m: unsupported operand type(s) for +: 'range' and 'range'"
     ]
    }
   ],
   "source": [
    "# 단 sequence 자료형 중에 range는 서로 연결 불가\n",
    "# range 자료형은 리스트나 튜플로 변환해 연결 쌉가능\n",
    "range(0, 10) + range(0, 10) # 타입 에러"
   ]
  },
  {
   "cell_type": "code",
   "execution_count": 18,
   "id": "c4a48427",
   "metadata": {},
   "outputs": [
    {
     "data": {
      "text/plain": [
       "(0, 1, 2, 3, 4, 5, 6, 7, 8, 9, 0, 1, 2, 3, 4, 5, 6, 7, 8, 9)"
      ]
     },
     "execution_count": 18,
     "metadata": {},
     "output_type": "execute_result"
    }
   ],
   "source": [
    "# range 객체를 튜플로 바꿔서 연결하기\n",
    "tuple(range(0, 10)) + tuple(range(0, 10))"
   ]
  },
  {
   "cell_type": "code",
   "execution_count": 21,
   "id": "c6d6cc4a",
   "metadata": {},
   "outputs": [
    {
     "data": {
      "text/plain": [
       "(10, 20, 30, 40, 10, 20, 30, 40, 10, 20, 30, 40, 10, 20, 30, 40)"
      ]
     },
     "execution_count": 21,
     "metadata": {},
     "output_type": "execute_result"
    }
   ],
   "source": [
    "# 시퀀스 객체는 반복이 가능함\n",
    "# 형식) 시퀀스 객체 * 반복 횟수\n",
    "seq = (10, 20, 30, 40)\n",
    "seq * 4"
   ]
  },
  {
   "cell_type": "code",
   "execution_count": 22,
   "id": "b46080dc",
   "metadata": {},
   "outputs": [
    {
     "name": "stdout",
     "output_type": "stream",
     "text": [
      "92\n"
     ]
    }
   ],
   "source": [
    "# 시퀀스 객체는 인덱스 사용이 가능함\n",
    "# 형식) 시퀀스 객체[인덱스] ==> 해당 시퀀스 객체의 특정 인덱스에 접근 가능\n",
    "data5 = (38, 17, 92, 55, 74)\n",
    "print(data5[2])"
   ]
  },
  {
   "cell_type": "code",
   "execution_count": 26,
   "id": "7f3173d4",
   "metadata": {},
   "outputs": [
    {
     "name": "stdout",
     "output_type": "stream",
     "text": [
      "6\n"
     ]
    }
   ],
   "source": [
    "ran = range(0, 10, 2)\n",
    "print(ran[3]) # ran = (0, 2, 4, 6, 8)"
   ]
  }
 ],
 "metadata": {
  "kernelspec": {
   "display_name": "Python 3 (ipykernel)",
   "language": "python",
   "name": "python3"
  },
  "language_info": {
   "codemirror_mode": {
    "name": "ipython",
    "version": 3
   },
   "file_extension": ".py",
   "mimetype": "text/x-python",
   "name": "python",
   "nbconvert_exporter": "python",
   "pygments_lexer": "ipython3",
   "version": "3.11.7"
  }
 },
 "nbformat": 4,
 "nbformat_minor": 5
}
