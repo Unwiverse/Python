{
 "cells": [
  {
   "cell_type": "markdown",
   "id": "c5bc8df7",
   "metadata": {},
   "source": [
    "#### 데이터 구조 - 리스트(list)\n",
    "###### ※ 데이터 구조는 총 4가지\n",
    "###### ※ 데이터 구조: 연관있는 데이터를 어떻게 컴퓨터로 효율적으로 다룰 수 있을까?"
   ]
  },
  {
   "cell_type": "markdown",
   "id": "034adf24",
   "metadata": {},
   "source": [
    "★ 리스트:<br>\n",
    "    1. 여러가지 관계가 있는 데이터를 하나의 변수로 다루는 방법<br>\n",
    "    2. 대괄호 안에 ,를 써서 데이터를 넣으면 되는 구조<br>\n",
    "    예) my_data = [1, 2, 'hello', True]<br>\n",
    "    3. 각 데이터는 인덱스로 다룰 수 있음"
   ]
  },
  {
   "cell_type": "code",
   "execution_count": 1,
   "id": "4cd53ee8",
   "metadata": {},
   "outputs": [],
   "source": [
    "location = ['서울시', '부산시', '경기도', '인천시', '대구시', '부천시']"
   ]
  },
  {
   "cell_type": "code",
   "execution_count": 2,
   "id": "54e77e40",
   "metadata": {},
   "outputs": [
    {
     "name": "stdout",
     "output_type": "stream",
     "text": [
      "서울시\n"
     ]
    }
   ],
   "source": [
    "print(location[0])"
   ]
  },
  {
   "cell_type": "code",
   "execution_count": 3,
   "id": "eb6d0861",
   "metadata": {},
   "outputs": [
    {
     "name": "stdout",
     "output_type": "stream",
     "text": [
      "부산시\n"
     ]
    }
   ],
   "source": [
    "print(location[1])"
   ]
  },
  {
   "cell_type": "code",
   "execution_count": 4,
   "id": "b7148840",
   "metadata": {},
   "outputs": [
    {
     "name": "stdout",
     "output_type": "stream",
     "text": [
      "경기도\n"
     ]
    }
   ],
   "source": [
    "print(location[2])"
   ]
  },
  {
   "cell_type": "code",
   "execution_count": 6,
   "id": "c7a8a10b",
   "metadata": {},
   "outputs": [
    {
     "name": "stdout",
     "output_type": "stream",
     "text": [
      "['서울시', '부산시', '경기도', '인천시', '대구시', '부천시']\n"
     ]
    }
   ],
   "source": [
    "print(location)"
   ]
  },
  {
   "cell_type": "code",
   "execution_count": 7,
   "id": "5b6eeb53",
   "metadata": {},
   "outputs": [],
   "source": [
    "# append('추가할 데이터'): 리스트에 데이터를 추가할 때 씀\n",
    "# ==> 맨 뒤(인덱스)에 추가됨"
   ]
  },
  {
   "cell_type": "code",
   "execution_count": 8,
   "id": "5aaaa0a8",
   "metadata": {},
   "outputs": [],
   "source": [
    "location.append('진주시') "
   ]
  },
  {
   "cell_type": "code",
   "execution_count": 9,
   "id": "6f398d7f",
   "metadata": {},
   "outputs": [
    {
     "name": "stdout",
     "output_type": "stream",
     "text": [
      "['서울시', '부산시', '경기도', '인천시', '대구시', '부천시', '진주시']\n"
     ]
    }
   ],
   "source": [
    "print(location)"
   ]
  },
  {
   "cell_type": "code",
   "execution_count": 10,
   "id": "653a73d1",
   "metadata": {},
   "outputs": [
    {
     "name": "stdout",
     "output_type": "stream",
     "text": [
      "진주시\n"
     ]
    }
   ],
   "source": [
    "print(location[-1])"
   ]
  },
  {
   "cell_type": "code",
   "execution_count": 11,
   "id": "99eea781",
   "metadata": {},
   "outputs": [],
   "source": [
    "# 특정 인덱스에 데이터를 추가하고 싶음\n",
    "# 형식) list 이름.insert(인덱스번호, 추가할 데이터)"
   ]
  },
  {
   "cell_type": "code",
   "execution_count": 13,
   "id": "1ed8d772",
   "metadata": {},
   "outputs": [],
   "source": [
    "location.insert(3, '이천시')"
   ]
  },
  {
   "cell_type": "code",
   "execution_count": 14,
   "id": "c78ae5b2",
   "metadata": {},
   "outputs": [
    {
     "name": "stdout",
     "output_type": "stream",
     "text": [
      "['서울시', '부산시', '경기도', '이천시', '인천시', '대구시', '부천시', '진주시']\n"
     ]
    }
   ],
   "source": [
    "print(location)"
   ]
  },
  {
   "cell_type": "code",
   "execution_count": 15,
   "id": "51b5a8e6",
   "metadata": {},
   "outputs": [
    {
     "name": "stdout",
     "output_type": "stream",
     "text": [
      "['경기도', '이천시']\n"
     ]
    }
   ],
   "source": [
    "# 슬라이싱도 가능\n",
    "print(location[2 : 4])"
   ]
  },
  {
   "cell_type": "code",
   "execution_count": 16,
   "id": "a9d3a3bb",
   "metadata": {},
   "outputs": [],
   "source": [
    "# 데이터를 삭제하고 싶으면\n",
    "# remove() 함수 or del 명령어 입력"
   ]
  },
  {
   "cell_type": "code",
   "execution_count": 17,
   "id": "ca3d2f8f",
   "metadata": {},
   "outputs": [],
   "source": [
    "location.remove('이천시')"
   ]
  },
  {
   "cell_type": "code",
   "execution_count": 19,
   "id": "dfb8c683",
   "metadata": {},
   "outputs": [
    {
     "name": "stdout",
     "output_type": "stream",
     "text": [
      "['서울시', '부산시', '경기도', '인천시', '대구시', '부천시', '진주시']\n"
     ]
    }
   ],
   "source": [
    "print(location) # 첫 번째 방법"
   ]
  },
  {
   "cell_type": "code",
   "execution_count": 20,
   "id": "8128e746",
   "metadata": {},
   "outputs": [],
   "source": [
    "del location[2]"
   ]
  },
  {
   "cell_type": "code",
   "execution_count": 21,
   "id": "6b1aff27",
   "metadata": {},
   "outputs": [
    {
     "name": "stdout",
     "output_type": "stream",
     "text": [
      "['서울시', '부산시', '인천시', '대구시', '부천시', '진주시']\n"
     ]
    }
   ],
   "source": [
    "print(location)"
   ]
  },
  {
   "cell_type": "code",
   "execution_count": 25,
   "id": "d90b650e",
   "metadata": {},
   "outputs": [],
   "source": [
    "# 비어있는 리스트를 만들어서 데이터를 연속적으로 저장하기\n",
    "# 형삭) 리스트변수 = list()"
   ]
  },
  {
   "cell_type": "code",
   "execution_count": 27,
   "id": "2775aa30",
   "metadata": {},
   "outputs": [
    {
     "name": "stdout",
     "output_type": "stream",
     "text": [
      "[]\n"
     ]
    }
   ],
   "source": [
    "data = list()\n",
    "print(data) # 빈 배열 출력됨"
   ]
  },
  {
   "cell_type": "markdown",
   "id": "af9c6017",
   "metadata": {},
   "source": [
    "range() == >  반복해서 지정한 횟수까지 생성<br>\n",
    "지정한 횟수는 리스트에 저장되지 않음"
   ]
  },
  {
   "cell_type": "code",
   "execution_count": 33,
   "id": "28ca7a0e",
   "metadata": {},
   "outputs": [
    {
     "name": "stdout",
     "output_type": "stream",
     "text": [
      "[0, 1, 2, 3, 4, 5, 6, 7, 8, 9]\n"
     ]
    }
   ],
   "source": [
    "data = list(range(10)) # 0~9까지만 리스트에 저장\n",
    "print(data)"
   ]
  },
  {
   "cell_type": "code",
   "execution_count": 36,
   "id": "c315ee7c",
   "metadata": {},
   "outputs": [
    {
     "name": "stdout",
     "output_type": "stream",
     "text": [
      "[0, 1, 2, 3, 4, 5, 6, 7, 8, 9]\n"
     ]
    }
   ],
   "source": [
    "data1 = list(range(11, 20))\n",
    "print(data)"
   ]
  },
  {
   "cell_type": "code",
   "execution_count": 42,
   "id": "33790b8b",
   "metadata": {},
   "outputs": [
    {
     "name": "stdout",
     "output_type": "stream",
     "text": [
      "[1, 3, 5, 7, 9, 11, 13, 15, 17, 19]\n"
     ]
    }
   ],
   "source": [
    "# range(시작, 끝, 증가폭)\n",
    "data2 = list(range(1, 20, 2))\n",
    "print(data2)"
   ]
  },
  {
   "cell_type": "code",
   "execution_count": 47,
   "id": "935cc287",
   "metadata": {},
   "outputs": [
    {
     "name": "stdout",
     "output_type": "stream",
     "text": [
      "[19, 17, 15, 13, 11, 9, 7, 5, 3, 1]\n"
     ]
    }
   ],
   "source": [
    "# range(시작, 끝, 음수) => 숫자가 감소함\n",
    "data3 = list(range(19, 0, -2))\n",
    "print(data3)"
   ]
  }
 ],
 "metadata": {
  "kernelspec": {
   "display_name": "Python 3 (ipykernel)",
   "language": "python",
   "name": "python3"
  },
  "language_info": {
   "codemirror_mode": {
    "name": "ipython",
    "version": 3
   },
   "file_extension": ".py",
   "mimetype": "text/x-python",
   "name": "python",
   "nbconvert_exporter": "python",
   "pygments_lexer": "ipython3",
   "version": "3.11.7"
  }
 },
 "nbformat": 4,
 "nbformat_minor": 5
}
