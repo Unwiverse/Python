{
 "cells": [
  {
   "cell_type": "code",
   "execution_count": 1,
   "id": "33ae6251",
   "metadata": {},
   "outputs": [],
   "source": [
    "# 시퀀스 객체의 슬라이스 쓰기\n",
    "# 형식) 시퀀스객체(시작인덱스:끝인덱스)"
   ]
  },
  {
   "cell_type": "code",
   "execution_count": 6,
   "id": "fdcbfed1",
   "metadata": {},
   "outputs": [
    {
     "data": {
      "text/plain": [
       "[10, 20, 30, 40]"
      ]
     },
     "execution_count": 6,
     "metadata": {},
     "output_type": "execute_result"
    }
   ],
   "source": [
    "a = [10, 20, 30, 40, 50, 60, 70, 80, 90, 100, 110, 120]\n",
    "\n",
    "a[0 : 4]"
   ]
  },
  {
   "cell_type": "code",
   "execution_count": 8,
   "id": "6de13dc7",
   "metadata": {},
   "outputs": [
    {
     "data": {
      "text/plain": [
       "[30, 60, 90, 120]"
      ]
     },
     "execution_count": 8,
     "metadata": {},
     "output_type": "execute_result"
    }
   ],
   "source": [
    "# 인덱스 증가폭 포함 가능\n",
    "# 형식) 시퀀스객체(시작인덱스:끝인덱스:인덱스증가폭)\n",
    "a[2:12:3] # 인덱스2(30)부터 인덱스 7(80)까지 3씩 증가된 데이터 가져옴"
   ]
  },
  {
   "cell_type": "code",
   "execution_count": 4,
   "id": "6a96b0de",
   "metadata": {},
   "outputs": [],
   "source": [
    "# 형식) sequence 객체[:끝인덱스] ==> 처음부터 끝 -1(마지막)까지\n",
    "# 형식) sequence 객체[시작인덱스:] ==> 시작인덱스부터 -1(마지막)까지\n",
    "# 형식) sequence 객체[:] ==> 처음부터 끝까지 다 갖고옴"
   ]
  }
 ],
 "metadata": {
  "kernelspec": {
   "display_name": "Python 3 (ipykernel)",
   "language": "python",
   "name": "python3"
  },
  "language_info": {
   "codemirror_mode": {
    "name": "ipython",
    "version": 3
   },
   "file_extension": ".py",
   "mimetype": "text/x-python",
   "name": "python",
   "nbconvert_exporter": "python",
   "pygments_lexer": "ipython3",
   "version": "3.11.7"
  }
 },
 "nbformat": 4,
 "nbformat_minor": 5
}
