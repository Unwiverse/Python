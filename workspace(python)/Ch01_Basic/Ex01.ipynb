{
 "cells": [
  {
   "cell_type": "markdown",
   "id": "47201cd6",
   "metadata": {},
   "source": [
    "## 인터프리터 방식: 코드 한 줄 한 줄 작성 후 실행해서 결과를 얻음"
   ]
  },
  {
   "cell_type": "code",
   "execution_count": 1,
   "id": "a6f5b633",
   "metadata": {},
   "outputs": [
    {
     "name": "stdout",
     "output_type": "stream",
     "text": [
      "네 반갑읍니다 여러분들 플딱아~~재입니다\n"
     ]
    }
   ],
   "source": [
    "print('네 반갑읍니다 여러분들 플딱아~~재입니다')"
   ]
  },
  {
   "cell_type": "code",
   "execution_count": 4,
   "id": "411b0fd4",
   "metadata": {},
   "outputs": [],
   "source": [
    "# 한 줄 주석문"
   ]
  },
  {
   "cell_type": "code",
   "execution_count": 3,
   "id": "21ef38fb",
   "metadata": {},
   "outputs": [
    {
     "data": {
      "text/plain": [
       "'\\n두 줄 이상 주석문\\n'"
      ]
     },
     "execution_count": 3,
     "metadata": {},
     "output_type": "execute_result"
    }
   ],
   "source": [
    "\"\"\"\n",
    "두 줄 이상 주석문\n",
    "\"\"\""
   ]
  },
  {
   "cell_type": "code",
   "execution_count": 6,
   "id": "17d70756",
   "metadata": {},
   "outputs": [
    {
     "name": "stdout",
     "output_type": "stream",
     "text": [
      "이름: 임꺽정\n",
      "연락처: 있겠냐\n",
      "주소: 조선 때 어딘가\n"
     ]
    }
   ],
   "source": [
    "print(\"이름: 임꺽정\")\n",
    "print(\"연락처: 있겠냐\")\n",
    "print(\"주소: 조선 때 어딘가\")"
   ]
  },
  {
   "cell_type": "code",
   "execution_count": 8,
   "id": "cfea147e",
   "metadata": {},
   "outputs": [
    {
     "name": "stdout",
     "output_type": "stream",
     "text": [
      "271200\n"
     ]
    }
   ],
   "source": [
    "print(40*6780)"
   ]
  },
  {
   "cell_type": "code",
   "execution_count": null,
   "id": "d3960197",
   "metadata": {},
   "outputs": [],
   "source": []
  }
 ],
 "metadata": {
  "kernelspec": {
   "display_name": "Python 3 (ipykernel)",
   "language": "python",
   "name": "python3"
  },
  "language_info": {
   "codemirror_mode": {
    "name": "ipython",
    "version": 3
   },
   "file_extension": ".py",
   "mimetype": "text/x-python",
   "name": "python",
   "nbconvert_exporter": "python",
   "pygments_lexer": "ipython3",
   "version": "3.11.7"
  }
 },
 "nbformat": 4,
 "nbformat_minor": 5
}
