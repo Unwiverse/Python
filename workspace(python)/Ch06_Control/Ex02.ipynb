{
 "cells": [
  {
   "cell_type": "code",
   "execution_count": null,
   "id": "3a9a8153",
   "metadata": {},
   "outputs": [],
   "source": [
    "# if else\n",
    "# 형식) if 조건문:\n",
    "#          조건식이 참일 때 실행 문장\n",
    "#       else:\n",
    "#          조건식이 거짓인 경우 실행 문장"
   ]
  },
  {
   "cell_type": "code",
   "execution_count": 1,
   "id": "348c6758",
   "metadata": {},
   "outputs": [
    {
     "name": "stdout",
     "output_type": "stream",
     "text": [
      "키미노에이지와?18\n",
      "당신은 사랑받기 위해 태어난 사람\n"
     ]
    }
   ],
   "source": [
    "age = int(input('키미노에이지와?'))\n",
    "\n",
    "if(age >= 19):\n",
    "    print('당신은 성인입니다')\n",
    "else:\n",
    "    print('당신은 사랑받기 위해 태어난 사람')"
   ]
  }
 ],
 "metadata": {
  "kernelspec": {
   "display_name": "Python 3 (ipykernel)",
   "language": "python",
   "name": "python3"
  },
  "language_info": {
   "codemirror_mode": {
    "name": "ipython",
    "version": 3
   },
   "file_extension": ".py",
   "mimetype": "text/x-python",
   "name": "python",
   "nbconvert_exporter": "python",
   "pygments_lexer": "ipython3",
   "version": "3.11.7"
  }
 },
 "nbformat": 4,
 "nbformat_minor": 5
}
