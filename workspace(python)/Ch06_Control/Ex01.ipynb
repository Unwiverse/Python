{
 "cells": [
  {
   "cell_type": "code",
   "execution_count": null,
   "id": "fd9e0d54",
   "metadata": {},
   "outputs": [],
   "source": [
    "# 조건문: 특정한 조건일 때 코드를 실행하는 문법\n",
    "# 조건문 종류: if, if else, 다중 if else"
   ]
  },
  {
   "cell_type": "code",
   "execution_count": null,
   "id": "2511cef2",
   "metadata": {},
   "outputs": [],
   "source": [
    "# if\n",
    "# 형식) if(조건문): \n",
    "#            조건문이 참일 때 실행할 문장"
   ]
  },
  {
   "cell_type": "code",
   "execution_count": 5,
   "id": "98fc1c3d",
   "metadata": {},
   "outputs": [],
   "source": [
    "su = 10\n",
    "\n",
    "if su == 10: \n",
    "    print('su 변수의 값은 ', su, '입니다')"
   ]
  },
  {
   "cell_type": "code",
   "execution_count": 8,
   "id": "9630b849",
   "metadata": {},
   "outputs": [
    {
     "name": "stdout",
     "output_type": "stream",
     "text": [
      "당신의 나이는?75\n",
      "당신은 늙탱이입니다\n"
     ]
    }
   ],
   "source": [
    "age = int(input('당신의 나이는?'))\n",
    "\n",
    "if(age >= 75):\n",
    "    print('당신은 늙탱이입니다')"
   ]
  },
  {
   "cell_type": "code",
   "execution_count": null,
   "id": "c7548be5",
   "metadata": {},
   "outputs": [],
   "source": [
    "#제문 현금이 10만원이 있으면 레스토랑에 간다를 코드로 작성 ㄱㄱ\n",
    "cash = int(input('얼마있음?'))\n",
    "\n",
    "if(cash >= 100000):\n",
    "    print('오 스테끼썰고오셈')\n",
    "else:\n",
    "    print('ㅋ')"
   ]
  }
 ],
 "metadata": {
  "kernelspec": {
   "display_name": "Python 3 (ipykernel)",
   "language": "python",
   "name": "python3"
  },
  "language_info": {
   "codemirror_mode": {
    "name": "ipython",
    "version": 3
   },
   "file_extension": ".py",
   "mimetype": "text/x-python",
   "name": "python",
   "nbconvert_exporter": "python",
   "pygments_lexer": "ipython3",
   "version": "3.11.7"
  }
 },
 "nbformat": 4,
 "nbformat_minor": 5
}
