{
 "cells": [
  {
   "cell_type": "code",
   "execution_count": null,
   "id": "a7d7cdfe",
   "metadata": {},
   "outputs": [],
   "source": [
    "# 반복문 진행 시 range 대신 sequence 객체를 넣어 쓸 수 있다"
   ]
  },
  {
   "cell_type": "code",
   "execution_count": 1,
   "id": "f2003d59",
   "metadata": {},
   "outputs": [
    {
     "name": "stdout",
     "output_type": "stream",
     "text": [
      "10\n",
      "20\n",
      "30\n",
      "40\n",
      "50\n",
      "60\n",
      "70\n"
     ]
    }
   ],
   "source": [
    "data = [10, 20, 30, 40, 50, 60, 70] # 리스트 객체\n",
    "for item in data: \n",
    "    print(item)"
   ]
  },
  {
   "cell_type": "code",
   "execution_count": null,
   "id": "b45954a9",
   "metadata": {},
   "outputs": [],
   "source": [
    "# tuple 객체도 반복이 가능하다"
   ]
  },
  {
   "cell_type": "code",
   "execution_count": 2,
   "id": "5482cf10",
   "metadata": {},
   "outputs": [
    {
     "name": "stdout",
     "output_type": "stream",
     "text": [
      "strawberry\n",
      "grapes\n",
      "apple\n",
      "watermelon\n",
      "orange\n",
      "tangerine\n",
      "lemon\n"
     ]
    }
   ],
   "source": [
    "fruits = ('strawberry', 'grapes', 'apple', 'watermelon', 'orange', 'tangerine', 'lemon')\n",
    "for item in fruits:\n",
    "    print(item)"
   ]
  }
 ],
 "metadata": {
  "kernelspec": {
   "display_name": "Python 3 (ipykernel)",
   "language": "python",
   "name": "python3"
  },
  "language_info": {
   "codemirror_mode": {
    "name": "ipython",
    "version": 3
   },
   "file_extension": ".py",
   "mimetype": "text/x-python",
   "name": "python",
   "nbconvert_exporter": "python",
   "pygments_lexer": "ipython3",
   "version": "3.11.7"
  }
 },
 "nbformat": 4,
 "nbformat_minor": 5
}
