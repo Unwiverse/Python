{
 "cells": [
  {
   "cell_type": "code",
   "execution_count": 2,
   "id": "e388c7dd",
   "metadata": {},
   "outputs": [],
   "source": [
    "# 파이썬에서 난수를 발생시키는 방법\n",
    "# 파이썬에서 난수를 발생시키려면 random 모듈이 있어야됨\n",
    "# 모듈은 import 키워드를 작성해 가져올 수 있다\n",
    "# 난수 발생 시 범위를 지정하면 된다\n",
    "# 형식) random.randint(시작, 끝)"
   ]
  },
  {
   "cell_type": "code",
   "execution_count": 56,
   "id": "5d0bd8a7",
   "metadata": {},
   "outputs": [
    {
     "name": "stdout",
     "output_type": "stream",
     "text": [
      "주사위  5 가 나왔...\n",
      "주사위  4 가 나왔...\n",
      "주사위  5 가 나왔...\n",
      "주사위  6 가 나왔...\n",
      "주사위  1 가 나왔...\n",
      "주사위  6 가 나왔...\n",
      "주사위  5 가 나왔...\n",
      "주사위  4 가 나왔...\n",
      "주사위  5 가 나왔...\n",
      "주사위  3 가 나왔...\n"
     ]
    }
   ],
   "source": [
    "import random # random 모듈을 가져오는 명령어\n",
    "i = 1\n",
    "while i != 3:\n",
    "    i = random.randint(1, 6)\n",
    "    print(\"주사위 \", i, '가 나왔...')"
   ]
  }
 ],
 "metadata": {
  "kernelspec": {
   "display_name": "Python 3 (ipykernel)",
   "language": "python",
   "name": "python3"
  },
  "language_info": {
   "codemirror_mode": {
    "name": "ipython",
    "version": 3
   },
   "file_extension": ".py",
   "mimetype": "text/x-python",
   "name": "python",
   "nbconvert_exporter": "python",
   "pygments_lexer": "ipython3",
   "version": "3.11.7"
  }
 },
 "nbformat": 4,
 "nbformat_minor": 5
}
