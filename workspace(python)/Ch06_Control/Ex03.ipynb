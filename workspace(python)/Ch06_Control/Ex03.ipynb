{
 "cells": [
  {
   "cell_type": "code",
   "execution_count": 1,
   "id": "7c1552b1",
   "metadata": {},
   "outputs": [],
   "source": [
    "# 다중 if else\n",
    "# 형식) if 조건식1:\n",
    "#          조건식이 참일 때 실행 문장\n",
    "#       elif 조건식2:\n",
    "#          조건식1이 거짓이고, 조건식2가 참인 경우 실행문장\n",
    "#       elif 조건식3:\n",
    "#          조건식1,2가 거짓이고 조건식 3이 참일 때 실행문장\n",
    "#       else:\n",
    "#          모든 조건식이 거짓이면 실행할 문장"
   ]
  },
  {
   "cell_type": "code",
   "execution_count": 3,
   "id": "256475ed",
   "metadata": {},
   "outputs": [
    {
     "name": "stdout",
     "output_type": "stream",
     "text": [
      "당신의 나이는???25\n",
      "무장공비 아닙니다!!!!!\n"
     ]
    }
   ],
   "source": [
    "age = int(input('당신의 나이는???'))\n",
    "if age >= 19:\n",
    "    print('무장공비 아닙니다!!!!!')\n",
    "elif age >= 14:\n",
    "    print('그새끼들이 왜 무장공비야!! 대한민국 특수부대 684대원들이라니까!!!!!!')\n",
    "else:\n",
    "    print('버스 안 대원들, 제 부하들입니다')"
   ]
  },
  {
   "cell_type": "code",
   "execution_count": 7,
   "id": "de4686d6",
   "metadata": {},
   "outputs": [
    {
     "name": "stdout",
     "output_type": "stream",
     "text": [
      "평균은?99\n",
      "A\n"
     ]
    }
   ],
   "source": [
    "# 평균을 키보드로 입력받아 평균에 해당하는 학점을 출력해보세요\n",
    "avg = int(input('평균은?'))\n",
    "if avg == 100:\n",
    "    print('A+')\n",
    "elif avg >= 90:\n",
    "    print('A')\n",
    "elif avg >= 80:\n",
    "    print('B')\n",
    "elif avg >= 70:\n",
    "    print('C')\n",
    "elif avg >= 60:\n",
    "    print('D')\n",
    "else:\n",
    "    print('F')"
   ]
  }
 ],
 "metadata": {
  "kernelspec": {
   "display_name": "Python 3 (ipykernel)",
   "language": "python",
   "name": "python3"
  },
  "language_info": {
   "codemirror_mode": {
    "name": "ipython",
    "version": 3
   },
   "file_extension": ".py",
   "mimetype": "text/x-python",
   "name": "python",
   "nbconvert_exporter": "python",
   "pygments_lexer": "ipython3",
   "version": "3.11.7"
  }
 },
 "nbformat": 4,
 "nbformat_minor": 5
}
