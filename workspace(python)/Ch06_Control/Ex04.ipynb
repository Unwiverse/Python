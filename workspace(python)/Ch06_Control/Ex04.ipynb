{
 "cells": [
  {
   "cell_type": "code",
   "execution_count": null,
   "id": "fc30f125",
   "metadata": {},
   "outputs": [],
   "source": [
    "# 반복문\n",
    "# 반복문 종류: while, for\n"
   ]
  },
  {
   "cell_type": "code",
   "execution_count": null,
   "id": "fb4c00c8",
   "metadata": {},
   "outputs": [],
   "source": [
    "# while\n",
    "# 이건 초기식과 조건식 그리고 증감식이 있어야됨 "
   ]
  },
  {
   "cell_type": "code",
   "execution_count": 3,
   "id": "2901f18e",
   "metadata": {},
   "outputs": [
    {
     "name": "stdout",
     "output_type": "stream",
     "text": [
      "1\n",
      "2\n",
      "3\n",
      "4\n",
      "5\n",
      "6\n",
      "7\n",
      "8\n",
      "9\n",
      "10\n"
     ]
    }
   ],
   "source": [
    "su = 1            # while에서의 초기식\n",
    "while su <= 10:  # while에서 조건식\n",
    "    print(su)\n",
    "    su += 1      # while 반복문에서의 증감식 "
   ]
  }
 ],
 "metadata": {
  "kernelspec": {
   "display_name": "Python 3 (ipykernel)",
   "language": "python",
   "name": "python3"
  },
  "language_info": {
   "codemirror_mode": {
    "name": "ipython",
    "version": 3
   },
   "file_extension": ".py",
   "mimetype": "text/x-python",
   "name": "python",
   "nbconvert_exporter": "python",
   "pygments_lexer": "ipython3",
   "version": "3.11.7"
  }
 },
 "nbformat": 4,
 "nbformat_minor": 5
}
