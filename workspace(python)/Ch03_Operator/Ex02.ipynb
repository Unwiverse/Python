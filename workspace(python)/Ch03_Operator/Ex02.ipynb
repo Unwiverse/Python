{
 "cells": [
  {
   "cell_type": "code",
   "execution_count": 1,
   "id": "9e2e3982",
   "metadata": {},
   "outputs": [],
   "source": [
    "#키보드로 입력하기\n",
    "# 형식) input('message')"
   ]
  },
  {
   "cell_type": "code",
   "execution_count": 2,
   "id": "775ff2e4",
   "metadata": {},
   "outputs": [
    {
     "name": "stdout",
     "output_type": "stream",
     "text": [
      "이름을 입력하세요ㅇㅇ\n",
      "입력받은 이름:  ㅇㅇ\n"
     ]
    }
   ],
   "source": [
    "name = input('이름을 입력하세요')\n",
    "\n",
    "print('입력받은 이름: ', name)"
   ]
  },
  {
   "cell_type": "code",
   "execution_count": 3,
   "id": "a5379ff6",
   "metadata": {},
   "outputs": [
    {
     "name": "stdout",
     "output_type": "stream",
     "text": [
      "첫 번째 수 입력1\n",
      "두 번째 수 입력2\n",
      "12\n"
     ]
    }
   ],
   "source": [
    "num1 = input('첫 번째 수 입력')\n",
    "num2 = input('두 번째 수 입력')\n",
    "\n",
    "print(num1+num2) # 입력받은 데이터를 + 연산하면 결합됨. 이유는 str 타입이기 때문"
   ]
  },
  {
   "cell_type": "code",
   "execution_count": 5,
   "id": "0a5c5626",
   "metadata": {},
   "outputs": [
    {
     "name": "stdout",
     "output_type": "stream",
     "text": [
      "첫 번째 수 입력1\n",
      "두 번째 수 입력1\n",
      "2\n"
     ]
    }
   ],
   "source": [
    "num1 = int(input('첫 번째 수 입력'))\n",
    "num2 = int(input('두 번째 수 입력'))\n",
    "\n",
    "print(num1+num2)"
   ]
  },
  {
   "cell_type": "code",
   "execution_count": null,
   "id": "8d8614c1",
   "metadata": {},
   "outputs": [],
   "source": []
  },
  {
   "cell_type": "code",
   "execution_count": null,
   "id": "b6e11b70",
   "metadata": {},
   "outputs": [],
   "source": []
  },
  {
   "cell_type": "code",
   "execution_count": null,
   "id": "e85b5d4d",
   "metadata": {},
   "outputs": [],
   "source": []
  }
 ],
 "metadata": {
  "kernelspec": {
   "display_name": "Python 3 (ipykernel)",
   "language": "python",
   "name": "python3"
  },
  "language_info": {
   "codemirror_mode": {
    "name": "ipython",
    "version": 3
   },
   "file_extension": ".py",
   "mimetype": "text/x-python",
   "name": "python",
   "nbconvert_exporter": "python",
   "pygments_lexer": "ipython3",
   "version": "3.11.7"
  }
 },
 "nbformat": 4,
 "nbformat_minor": 5
}
