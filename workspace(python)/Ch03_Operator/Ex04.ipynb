{
 "cells": [
  {
   "cell_type": "code",
   "execution_count": 4,
   "id": "c5655a29",
   "metadata": {},
   "outputs": [
    {
     "name": "stdout",
     "output_type": "stream",
     "text": [
      "원의 지름:  20\n",
      "원의 둘레:  62.830000000000005\n",
      "원의 넓이:  314.15000000000003\n"
     ]
    }
   ],
   "source": [
    "#반지름 r=10을 선언하고 이를 이용해 원의 지름, 둘레(2*π*r), 넓이(π*r*r)를 각각 출력하는 코드 작성 ㄱ\n",
    "# π = 3.1415로 한다\n",
    "\n",
    "r = 10\n",
    "pi = 3.1415\n",
    "\n",
    "print('원의 지름: ', (r*2))\n",
    "print('원의 둘레: ', (2*pi*r))\n",
    "print('원의 넓이: ', (pi*r*r))"
   ]
  }
 ],
 "metadata": {
  "kernelspec": {
   "display_name": "Python 3 (ipykernel)",
   "language": "python",
   "name": "python3"
  },
  "language_info": {
   "codemirror_mode": {
    "name": "ipython",
    "version": 3
   },
   "file_extension": ".py",
   "mimetype": "text/x-python",
   "name": "python",
   "nbconvert_exporter": "python",
   "pygments_lexer": "ipython3",
   "version": "3.11.7"
  }
 },
 "nbformat": 4,
 "nbformat_minor": 5
}
