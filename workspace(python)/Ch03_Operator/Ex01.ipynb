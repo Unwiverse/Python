{
 "cells": [
  {
   "cell_type": "markdown",
   "id": "8926cce4",
   "metadata": {},
   "source": [
    "## 산술 연산(+, -, *, /, //, %)"
   ]
  },
  {
   "cell_type": "code",
   "execution_count": 1,
   "id": "a9ddd74c",
   "metadata": {},
   "outputs": [
    {
     "name": "stdout",
     "output_type": "stream",
     "text": [
      "7\n"
     ]
    }
   ],
   "source": [
    "print(5+2)"
   ]
  },
  {
   "cell_type": "code",
   "execution_count": 2,
   "id": "7fbe3684",
   "metadata": {},
   "outputs": [
    {
     "name": "stdout",
     "output_type": "stream",
     "text": [
      "-5\n"
     ]
    }
   ],
   "source": [
    "print(5-10)"
   ]
  },
  {
   "cell_type": "code",
   "execution_count": 3,
   "id": "96de06fb",
   "metadata": {},
   "outputs": [
    {
     "name": "stdout",
     "output_type": "stream",
     "text": [
      "10\n"
     ]
    }
   ],
   "source": [
    "print(5*2)"
   ]
  },
  {
   "cell_type": "code",
   "execution_count": 7,
   "id": "9a0ef99d",
   "metadata": {},
   "outputs": [
    {
     "name": "stdout",
     "output_type": "stream",
     "text": [
      "25.0\n"
     ]
    }
   ],
   "source": [
    "print((5/2)*10)"
   ]
  },
  {
   "cell_type": "code",
   "execution_count": 5,
   "id": "75028f5e",
   "metadata": {},
   "outputs": [
    {
     "name": "stdout",
     "output_type": "stream",
     "text": [
      "2\n"
     ]
    }
   ],
   "source": [
    "print(5//2) #몫"
   ]
  },
  {
   "cell_type": "code",
   "execution_count": 6,
   "id": "344078b6",
   "metadata": {},
   "outputs": [
    {
     "name": "stdout",
     "output_type": "stream",
     "text": [
      "1\n"
     ]
    }
   ],
   "source": [
    "print(5%2) # 나머지"
   ]
  },
  {
   "cell_type": "code",
   "execution_count": 22,
   "id": "1cec28a8",
   "metadata": {},
   "outputs": [
    {
     "name": "stdout",
     "output_type": "stream",
     "text": [
      "15625\n"
     ]
    }
   ],
   "source": [
    "print(5**6) #거듭제곱"
   ]
  },
  {
   "cell_type": "code",
   "execution_count": null,
   "id": "dac3a8ee",
   "metadata": {},
   "outputs": [],
   "source": [
    "# 몫+나머지 동시에!\n",
    "# divmod(5, 2) => 튜플 자료형으로 나타남"
   ]
  },
  {
   "cell_type": "code",
   "execution_count": 27,
   "id": "847aeec1",
   "metadata": {},
   "outputs": [
    {
     "name": "stdout",
     "output_type": "stream",
     "text": [
      "몫:  1\n",
      "나머지:  5\n"
     ]
    }
   ],
   "source": [
    "quotient, mode = divmod(12, 7)\n",
    "\n",
    "print('몫: ', quotient)\n",
    "print('나머지: ', mode)"
   ]
  },
  {
   "cell_type": "code",
   "execution_count": null,
   "id": "2c84c044",
   "metadata": {},
   "outputs": [],
   "source": [
    "# 정수는 십진수 이외에 2진수, 8과 16진수가 있다\n",
    "# 2진수: 숫자 앞에 0b를 붙이며, 0과 1을 쓴다\n",
    "# 8진수: 숫자 앞에 0o를 붙이며 0~7 사이 숫자를 쓴다\n",
    "# 16진수: 숫자 앞에 0x나 0X를 붙이며 0~9와 A~F 사이 값을 쓴다 "
   ]
  },
  {
   "cell_type": "code",
   "execution_count": 28,
   "id": "a146ce01",
   "metadata": {},
   "outputs": [
    {
     "name": "stdout",
     "output_type": "stream",
     "text": [
      "15\n"
     ]
    }
   ],
   "source": [
    "print(0b1111)"
   ]
  },
  {
   "cell_type": "code",
   "execution_count": 29,
   "id": "e2d6a539",
   "metadata": {},
   "outputs": [
    {
     "name": "stdout",
     "output_type": "stream",
     "text": [
      "9\n"
     ]
    }
   ],
   "source": [
    "print(0o11)"
   ]
  },
  {
   "cell_type": "code",
   "execution_count": 30,
   "id": "5cc5d413",
   "metadata": {},
   "outputs": [
    {
     "name": "stdout",
     "output_type": "stream",
     "text": [
      "13\n"
     ]
    }
   ],
   "source": [
    "print(0xD)"
   ]
  }
 ],
 "metadata": {
  "kernelspec": {
   "display_name": "Python 3 (ipykernel)",
   "language": "python",
   "name": "python3"
  },
  "language_info": {
   "codemirror_mode": {
    "name": "ipython",
    "version": 3
   },
   "file_extension": ".py",
   "mimetype": "text/x-python",
   "name": "python",
   "nbconvert_exporter": "python",
   "pygments_lexer": "ipython3",
   "version": "3.11.7"
  }
 },
 "nbformat": 4,
 "nbformat_minor": 5
}
