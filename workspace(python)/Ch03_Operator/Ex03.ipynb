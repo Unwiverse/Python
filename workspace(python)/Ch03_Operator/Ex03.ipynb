{
 "cells": [
  {
   "cell_type": "code",
   "execution_count": 1,
   "id": "a79b1f1b",
   "metadata": {},
   "outputs": [],
   "source": [
    "# 키보드로 여러 개의 값을 입력받고 싶은 경우\n",
    "# 형식1) 변수1, 변수2 = input().split() => 공백을 기준으로 여러 개 데이터를 받는 함수\n",
    "# 형식2) 변수1, 변수2 = input().split('기준문자열') => 기준문자열을 기준으로 여러 개 데이터를 받는 함수"
   ]
  },
  {
   "cell_type": "code",
   "execution_count": 2,
   "id": "b65e67d1",
   "metadata": {},
   "outputs": [
    {
     "name": "stdout",
     "output_type": "stream",
     "text": [
      "문자열 두 개를 입력하세요BMF champion\n",
      "str1 문자열: BMF\n",
      "str2 문자열: champion\n"
     ]
    }
   ],
   "source": [
    "str1, str2 = input('문자열 두 개를 입력하세요').split()\n",
    "print(\"str1 문자열:\", str1)\n",
    "print(\"str2 문자열:\", str2)"
   ]
  },
  {
   "cell_type": "code",
   "execution_count": 7,
   "id": "50d09ee5",
   "metadata": {},
   "outputs": [
    {
     "name": "stdout",
     "output_type": "stream",
     "text": [
      "두 수 입력12.12\n",
      "첫 번째 숫자 12\n",
      "두 번째 숫자 12\n",
      "su1+su2:  24\n"
     ]
    }
   ],
   "source": [
    "su1, su2 = input('두 수 입력').split('.')\n",
    "\n",
    "su1= int(su1)\n",
    "su2= int(su2)\n",
    "\n",
    "print('첫 번째 숫자', su1)\n",
    "print('두 번째 숫자', su2)\n",
    "print('su1+su2: ', (su1+su2))"
   ]
  },
  {
   "cell_type": "code",
   "execution_count": null,
   "id": "a0eb5e33",
   "metadata": {},
   "outputs": [],
   "source": [
    "# split 의 결과를 매번 int로 변환해주면 짜치니까 \n",
    "# map을 쓰면 편하게 가능\n",
    "# map에 int, input 그리고 split()을 넣으면 결과를 int 형으로 반환해줌\n",
    "\n",
    "# 형식) 변수1, 변수2 = map(int, input().split('기준문자열'))"
   ]
  },
  {
   "cell_type": "code",
   "execution_count": 8,
   "id": "6838048e",
   "metadata": {},
   "outputs": [
    {
     "name": "stdout",
     "output_type": "stream",
     "text": [
      "두 수를 입력하세요27 111\n",
      "num1+num2:  138\n"
     ]
    }
   ],
   "source": [
    "num1, num2 = map(int, input('두 수를 입력하세요').split())\n",
    "\n",
    "print('num1+num2: ', (num1+num2))"
   ]
  },
  {
   "cell_type": "code",
   "execution_count": 11,
   "id": "8e03cd08",
   "metadata": {},
   "outputs": [
    {
     "name": "stdout",
     "output_type": "stream",
     "text": [
      "두 수를 입력하세요290.290\n",
      "a1+a2 580\n"
     ]
    }
   ],
   "source": [
    "a1, a2 = map(int, input('두 수를 입력하세요').split('.'))\n",
    "\n",
    "print('a1+a2', (a1+a2))"
   ]
  },
  {
   "cell_type": "code",
   "execution_count": 14,
   "id": "2882bfb3",
   "metadata": {},
   "outputs": [
    {
     "name": "stdout",
     "output_type": "stream",
     "text": [
      "숫자 세개 입력1.2.3\n",
      "n1+n2+n3:  6\n"
     ]
    }
   ],
   "source": [
    "# 키보드로 세 개의 정수를 입력해서 총합이 나오도록 코드 ㄱ\n",
    "n1, n2, n3 = map(int, input('숫자 세개 입력').split('.'))\n",
    "\n",
    "print('n1+n2+n3: ', (n1+n2+n3))"
   ]
  },
  {
   "cell_type": "code",
   "execution_count": 19,
   "id": "4d4529ef",
   "metadata": {},
   "outputs": [
    {
     "name": "stdout",
     "output_type": "stream",
     "text": [
      "각 과목 점수 입력90,90,90,90\n",
      "총합:  360\n",
      "평균:  90\n"
     ]
    }
   ],
   "source": [
    "# 키보드로 국영수파 점수를 입력받아 4과목 평균을 구해서 화면에 ㄱ\n",
    "kor, eng, mat, pyh = map(int, input('각 과목 점수 입력').split(','))\n",
    "\n",
    "print('총합: ', (kor+eng+mat+pyh))\n",
    "print('평균: ', (kor+eng+mat+pyh)//4)"
   ]
  }
 ],
 "metadata": {
  "kernelspec": {
   "display_name": "Python 3 (ipykernel)",
   "language": "python",
   "name": "python3"
  },
  "language_info": {
   "codemirror_mode": {
    "name": "ipython",
    "version": 3
   },
   "file_extension": ".py",
   "mimetype": "text/x-python",
   "name": "python",
   "nbconvert_exporter": "python",
   "pygments_lexer": "ipython3",
   "version": "3.11.7"
  }
 },
 "nbformat": 4,
 "nbformat_minor": 5
}
