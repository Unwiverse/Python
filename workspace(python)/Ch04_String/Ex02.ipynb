{
 "cells": [
  {
   "cell_type": "code",
   "execution_count": 1,
   "id": "1e242475",
   "metadata": {},
   "outputs": [],
   "source": [
    "# 출력 포맷과 입력"
   ]
  },
  {
   "cell_type": "code",
   "execution_count": 2,
   "id": "221c9d7c",
   "metadata": {},
   "outputs": [
    {
     "name": "stdout",
     "output_type": "stream",
     "text": [
      "I have a pen, I have an apple\n"
     ]
    }
   ],
   "source": [
    "print('I have a {}, I have an {}'.format('pen', 'apple'))"
   ]
  },
  {
   "cell_type": "code",
   "execution_count": 3,
   "id": "7e8b1ccb",
   "metadata": {},
   "outputs": [
    {
     "name": "stdout",
     "output_type": "stream",
     "text": [
      "I have a apple, I have an pen\n"
     ]
    }
   ],
   "source": [
    "print('I have a {1}, I have an {0}'.format('pen', 'apple'))"
   ]
  },
  {
   "cell_type": "code",
   "execution_count": 10,
   "id": "e06c79cb",
   "metadata": {},
   "outputs": [
    {
     "name": "stdout",
     "output_type": "stream",
     "text": [
      "I've met dan, so I'm feeling gloomy now\n"
     ]
    }
   ],
   "source": [
    "print(\"I've met {}, so I'm feeling {} now\".format('dan', 'gloomy'))"
   ]
  },
  {
   "cell_type": "code",
   "execution_count": 5,
   "id": "35145c5c",
   "metadata": {},
   "outputs": [],
   "source": [
    "avg = 78.45123"
   ]
  },
  {
   "cell_type": "code",
   "execution_count": 9,
   "id": "75e3f9f3",
   "metadata": {},
   "outputs": [
    {
     "name": "stdout",
     "output_type": "stream",
     "text": [
      "78.4512\n"
     ]
    }
   ],
   "source": [
    "print(format(avg, '.4f'))"
   ]
  },
  {
   "cell_type": "code",
   "execution_count": 7,
   "id": "e2d70f12",
   "metadata": {},
   "outputs": [],
   "source": [
    "# 문자열 출력 참고\n",
    "# %s = > string 데이터 처리\n",
    "# %c --> character 데이터 처리\n",
    "# %d => int 데이터 처리\n",
    "# %f --> float 데이터 처리"
   ]
  },
  {
   "cell_type": "code",
   "execution_count": 8,
   "id": "3966ac3e",
   "metadata": {},
   "outputs": [
    {
     "name": "stdout",
     "output_type": "stream",
     "text": [
      "I have a pen, I have an apple\n"
     ]
    }
   ],
   "source": [
    "print('I have a %s, I have an %s' %('pen', 'apple'))"
   ]
  }
 ],
 "metadata": {
  "kernelspec": {
   "display_name": "Python 3 (ipykernel)",
   "language": "python",
   "name": "python3"
  },
  "language_info": {
   "codemirror_mode": {
    "name": "ipython",
    "version": 3
   },
   "file_extension": ".py",
   "mimetype": "text/x-python",
   "name": "python",
   "nbconvert_exporter": "python",
   "pygments_lexer": "ipython3",
   "version": "3.11.7"
  }
 },
 "nbformat": 4,
 "nbformat_minor": 5
}
