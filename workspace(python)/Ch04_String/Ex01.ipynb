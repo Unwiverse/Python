{
 "cells": [
  {
   "cell_type": "code",
   "execution_count": 1,
   "id": "2ac5d124",
   "metadata": {},
   "outputs": [],
   "source": [
    "# 문자열 출력시 홑따옴표나 쌍따옴표로 출력하면 됨\n",
    "# 또는 홑따옴표 3개나 쌍따옴표 3개로 출력해도 됨\n"
   ]
  },
  {
   "cell_type": "code",
   "execution_count": 2,
   "id": "328f11aa",
   "metadata": {},
   "outputs": [
    {
     "name": "stdout",
     "output_type": "stream",
     "text": [
      "hello, python\n"
     ]
    }
   ],
   "source": [
    "str = 'hello, python'\n",
    "\n",
    "print(str)"
   ]
  },
  {
   "cell_type": "code",
   "execution_count": 3,
   "id": "8f4efece",
   "metadata": {
    "scrolled": true
   },
   "outputs": [
    {
     "name": "stdout",
     "output_type": "stream",
     "text": [
      "무, 무슨?\n"
     ]
    }
   ],
   "source": [
    "str='''무, 무슨?'''\n",
    "print(str)"
   ]
  },
  {
   "cell_type": "code",
   "execution_count": null,
   "id": "848adda9",
   "metadata": {},
   "outputs": [],
   "source": [
    "# 문자열 안에 홑따옴표나 쌍따옴표를 다 쓰는 방법은 '''나 \"\"\"로 작성하면 됨"
   ]
  },
  {
   "cell_type": "code",
   "execution_count": 7,
   "id": "30482556",
   "metadata": {},
   "outputs": [
    {
     "name": "stdout",
     "output_type": "stream",
     "text": [
      "\"Hello\". 'Python'\n"
     ]
    }
   ],
   "source": [
    "d_quote = \"\"\"\"Hello\". 'Python'\"\"\"\n",
    "print(d_quote)"
   ]
  },
  {
   "cell_type": "code",
   "execution_count": 10,
   "id": "516f7e16",
   "metadata": {},
   "outputs": [],
   "source": [
    "article = \"\"\"South Korean director Bong Joon-ho has won the Cannes film festival's most prestigious award.\n",
    "\n",
    "The Palme d'Or was awarded for his film Parasite, a dark comedy thriller exploring social class dynamics.\n",
    "\n",
    "The festival came to a close this evening after 11 days of previews of new films and documentaries.\n",
    "\n",
    "It saw French-Senagalese director Mati Diop become the first black female director to win an award in Cannes' 72-year history.\n",
    "\n",
    "ADVERTISEMENT\n",
    "\n",
    "Diop won the Grand Prix - the equivalent of a silver prize - for Atlantics, a Senegalese drama about young migrants and sexual politics.\n",
    "\n",
    "Ghouls, goals and rock 'n' roll at Cannes\n",
    "'Why can only guys make movies?'\n",
    "Quentin Tarantino's 'brilliant' Hollywood return\n",
    "Diop had previously said she was \"a little sad\" that it had taken until 2019 for a film by a woman of African descent to even be screened at the festival.\n",
    "\n",
    "Meanwhile, US director Quentin Tarantino's latest film Once Upon a Time in Hollywood - which received strong reviews - left the closing ceremony empty handed.\"\"\""
   ]
  },
  {
   "cell_type": "code",
   "execution_count": null,
   "id": "64487242",
   "metadata": {},
   "outputs": [],
   "source": [
    "# count() : 괄호 안에 있는 문자가 몇 개가 있는지 확인해주는 함수"
   ]
  },
  {
   "cell_type": "code",
   "execution_count": 11,
   "id": "db5be09d",
   "metadata": {},
   "outputs": [
    {
     "name": "stdout",
     "output_type": "stream",
     "text": [
      "57\n"
     ]
    }
   ],
   "source": [
    "print(article.count('o')) "
   ]
  },
  {
   "cell_type": "code",
   "execution_count": null,
   "id": "9b4fa1c9",
   "metadata": {},
   "outputs": [],
   "source": [
    "# len(): 길이를 정수값으로 반환해주는 함수 대행문자(\\n)까지 포함한 길이"
   ]
  },
  {
   "cell_type": "code",
   "execution_count": 12,
   "id": "85188f40",
   "metadata": {},
   "outputs": [
    {
     "name": "stdout",
     "output_type": "stream",
     "text": [
      "1022\n"
     ]
    }
   ],
   "source": [
    "print(len(article))"
   ]
  },
  {
   "cell_type": "code",
   "execution_count": null,
   "id": "28a47e0f",
   "metadata": {},
   "outputs": [],
   "source": [
    "# find(): 괄호 안에 문자가 전체 문자열 중에서 몇 번째에 위치하는지 인덱스를 나타내는 함수"
   ]
  },
  {
   "cell_type": "code",
   "execution_count": 15,
   "id": "af21de99",
   "metadata": {
    "scrolled": true
   },
   "outputs": [
    {
     "name": "stdout",
     "output_type": "stream",
     "text": [
      "22\n"
     ]
    }
   ],
   "source": [
    "print(article.find('Bong'))"
   ]
  },
  {
   "cell_type": "code",
   "execution_count": 17,
   "id": "7da8e366",
   "metadata": {},
   "outputs": [],
   "source": [
    "# replace(): 특정 문자열을 다른 문자열로 바꿔주는 함수\n",
    "# 형식) replace('기존 문자열', '교체할 문자열')"
   ]
  },
  {
   "cell_type": "code",
   "execution_count": 20,
   "id": "decf935e",
   "metadata": {},
   "outputs": [
    {
     "name": "stdout",
     "output_type": "stream",
     "text": [
      "South Korean director Eom Seunghyeon has won the Cannes film festival's most prestigious award.\n",
      "\n",
      "The Palme d'Or was awarded for his film Parasite, a dark comedy thriller exploring social class dynamics.\n",
      "\n",
      "The festival came to a close this evening after 11 days of previews of new films and documentaries.\n",
      "\n",
      "It saw French-Senagalese director Mati Diop become the first black female director to win an award in Cannes' 72-year history.\n",
      "\n",
      "ADVERTISEMENT\n",
      "\n",
      "Diop won the Grand Prix - the equivalent of a silver prize - for Atlantics, a Senegalese drama about young migrants and sexual politics.\n",
      "\n",
      "Ghouls, goals and rock 'n' roll at Cannes\n",
      "'Why can only guys make movies?'\n",
      "Quentin Tarantino's 'brilliant' Hollywood return\n",
      "Diop had previously said she was \"a little sad\" that it had taken until 2019 for a film by a woman of African descent to even be screened at the festival.\n",
      "\n",
      "Meanwhile, US director Quentin Tarantino's latest film Once Upon a Time in Hollywood - which received strong reviews - left the closing ceremony empty handed.\n"
     ]
    }
   ],
   "source": [
    "print((article.replace('Bong Joon-ho', 'Eom Seunghyeon')))"
   ]
  },
  {
   "cell_type": "code",
   "execution_count": null,
   "id": "89b3375c",
   "metadata": {},
   "outputs": [],
   "source": [
    "# 문자열 특수 기능\n",
    "# 인덱스(index) \n",
    "# --> 인덱스 특정 데이터를 가리키는 번호다\n",
    "print(article[0])"
   ]
  },
  {
   "cell_type": "code",
   "execution_count": 22,
   "id": "0dcc74c6",
   "metadata": {},
   "outputs": [
    {
     "name": "stdout",
     "output_type": "stream",
     "text": [
      ".\n"
     ]
    }
   ],
   "source": [
    "print(article[-1]) #  -1은 문자열의 맨끝을 의미"
   ]
  },
  {
   "cell_type": "code",
   "execution_count": 23,
   "id": "852583ee",
   "metadata": {},
   "outputs": [
    {
     "name": "stdout",
     "output_type": "stream",
     "text": [
      "d\n"
     ]
    }
   ],
   "source": [
    "print(article[-2])"
   ]
  },
  {
   "cell_type": "code",
   "execution_count": null,
   "id": "38964773",
   "metadata": {},
   "outputs": [],
   "source": [
    "# 슬라이싱(slicing)\n",
    "# ==> 슬라이싱은 특정 인덱스 번호부터 또다른 인덱스 번호까지 뽑아내고자 할 때 사용\n",
    "# 슬라이싱할 때 중간에 ':'이 들어감"
   ]
  },
  {
   "cell_type": "code",
   "execution_count": 25,
   "id": "22fc4a95",
   "metadata": {},
   "outputs": [
    {
     "name": "stdout",
     "output_type": "stream",
     "text": [
      "t\n"
     ]
    }
   ],
   "source": [
    "str1 = \"python program\"\n",
    "print(str1[2])"
   ]
  },
  {
   "cell_type": "markdown",
   "id": "eb847e85",
   "metadata": {},
   "source": [
    "## 슬라이싱 : 문자열[시작인덱스 : 끝(-1) 인덱스]"
   ]
  },
  {
   "cell_type": "code",
   "execution_count": 26,
   "id": "986fff66",
   "metadata": {},
   "outputs": [
    {
     "name": "stdout",
     "output_type": "stream",
     "text": [
      "th\n"
     ]
    }
   ],
   "source": [
    "print(str1[2 : 4])"
   ]
  },
  {
   "cell_type": "code",
   "execution_count": 27,
   "id": "cb248e9f",
   "metadata": {},
   "outputs": [
    {
     "name": "stdout",
     "output_type": "stream",
     "text": [
      "pytho\n"
     ]
    }
   ],
   "source": [
    "print(str1[: 5])"
   ]
  },
  {
   "cell_type": "code",
   "execution_count": 29,
   "id": "f445bc7c",
   "metadata": {},
   "outputs": [
    {
     "name": "stdout",
     "output_type": "stream",
     "text": [
      " program\n"
     ]
    }
   ],
   "source": [
    "print(str1[6: ])"
   ]
  },
  {
   "cell_type": "code",
   "execution_count": 31,
   "id": "6c11b518",
   "metadata": {},
   "outputs": [],
   "source": [
    "str2 = ' computer '"
   ]
  },
  {
   "cell_type": "code",
   "execution_count": 33,
   "id": "17d75f5b",
   "metadata": {},
   "outputs": [
    {
     "name": "stdout",
     "output_type": "stream",
     "text": [
      " computer \n",
      "computer\n"
     ]
    }
   ],
   "source": [
    "print(str2)\n",
    "print(str2.strip())"
   ]
  },
  {
   "cell_type": "code",
   "execution_count": null,
   "id": "48b42029",
   "metadata": {},
   "outputs": [],
   "source": []
  },
  {
   "cell_type": "code",
   "execution_count": null,
   "id": "a85e04c9",
   "metadata": {},
   "outputs": [],
   "source": []
  },
  {
   "cell_type": "code",
   "execution_count": null,
   "id": "26f66cf6",
   "metadata": {},
   "outputs": [],
   "source": []
  },
  {
   "cell_type": "code",
   "execution_count": null,
   "id": "14f36cd9",
   "metadata": {},
   "outputs": [],
   "source": []
  }
 ],
 "metadata": {
  "kernelspec": {
   "display_name": "Python 3 (ipykernel)",
   "language": "python",
   "name": "python3"
  },
  "language_info": {
   "codemirror_mode": {
    "name": "ipython",
    "version": 3
   },
   "file_extension": ".py",
   "mimetype": "text/x-python",
   "name": "python",
   "nbconvert_exporter": "python",
   "pygments_lexer": "ipython3",
   "version": "3.11.7"
  }
 },
 "nbformat": 4,
 "nbformat_minor": 5
}
